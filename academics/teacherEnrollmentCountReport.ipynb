{
 "cells": [
  {
   "cell_type": "code",
   "execution_count": null,
   "id": "e4843105",
   "metadata": {},
   "outputs": [],
   "source": [
    "# Changing the working directory\n",
    "import os\n",
    "os.chdir('../')"
   ]
  },
  {
   "cell_type": "code",
   "execution_count": 1,
   "id": "44270e81",
   "metadata": {},
   "outputs": [],
   "source": [
    "import pandas as pd\n",
    "from utils import calldb\n",
    "from skydb.sheets import *"
   ]
  },
  {
   "cell_type": "code",
   "execution_count": 2,
   "id": "0e695902",
   "metadata": {},
   "outputs": [],
   "source": [
    "stmt = \"\"\"\n",
    "    SELECT academic_enrollments.user_id, academic_enrollments.term, \n",
    "    academic_enrollments.section_id, tp_sections.teacher_id, tp_teachers.first_name,\n",
    "    tp_teachers.last_name\n",
    "    FROM academic_enrollments\n",
    "    JOIN tp_sections ON academic_enrollments.section_id = tp_sections.id\n",
    "    JOIN tp_teachers ON tp_sections.teacher_id = tp_teachers.id\n",
    "\"\"\""
   ]
  },
  {
   "cell_type": "code",
   "execution_count": 3,
   "id": "f03abedd",
   "metadata": {},
   "outputs": [],
   "source": [
    "results = calldb(stmt)"
   ]
  },
  {
   "cell_type": "code",
   "execution_count": 4,
   "id": "80706613",
   "metadata": {},
   "outputs": [],
   "source": [
    "df = pd.DataFrame(\n",
    "    results,\n",
    "    columns=['user_id', 'term', 'section_id', 'teacher_id', 'teacher_first', 'teacher_last']\n",
    ")"
   ]
  },
  {
   "cell_type": "code",
   "execution_count": 5,
   "id": "c49fca55",
   "metadata": {},
   "outputs": [],
   "source": [
    "teacherLoadReport = (\n",
    "    df.groupby(['teacher_id', 'term'])\n",
    "    .count()\n",
    "    .rename(columns={\n",
    "     'user_id':'n'\n",
    "    })\n",
    "    .drop(['section_id', 'teacher_first', 'teacher_last'], axis=1)\n",
    "    .sort_values('n')\n",
    "    .reset_index()\n",
    "    .merge(\n",
    "        df[['teacher_id', 'teacher_first', 'teacher_last']]\n",
    "        .drop_duplicates()\n",
    "    )\n",
    ")"
   ]
  },
  {
   "cell_type": "code",
   "execution_count": 6,
   "id": "9820885f",
   "metadata": {},
   "outputs": [],
   "source": [
    "# updateSpreadsheet(\n",
    "#     teacherLoadReport, \n",
    "#     tab_name='Spring',\n",
    "#     sheet_id=\"1KBvQBKxw4zlyeQbASRpn1vBkm9m86y0Tvd9Ykr9pq08\"\n",
    "# )"
   ]
  },
  {
   "cell_type": "code",
   "execution_count": 7,
   "id": "7fc12ccd",
   "metadata": {},
   "outputs": [],
   "source": [
    "from utils import getEnrollments"
   ]
  },
  {
   "cell_type": "code",
   "execution_count": 8,
   "id": "dd62b207",
   "metadata": {},
   "outputs": [],
   "source": [
    "fallEnrollments = getEnrollments(False)"
   ]
  },
  {
   "cell_type": "code",
   "execution_count": 9,
   "id": "e484ad41",
   "metadata": {},
   "outputs": [],
   "source": [
    "fallTeacherLoadReport = (\n",
    "    fallEnrollments[\n",
    "        (fallEnrollments\n",
    "         .term_name\n",
    "         .str\n",
    "         .split(\n",
    "             ' ', \n",
    "             expand=True\n",
    "         )[0] == \"Fall\"\n",
    "        )\n",
    "    ]\n",
    "    .groupby('teacher_id')\n",
    "    .count()\n",
    "    .rename(columns={\n",
    "     'user_id':'n'\n",
    "    })['n']\n",
    "    .sort_values()\n",
    "    .reset_index()\n",
    "    .merge(\n",
    "        fallEnrollments[['teacher_id', 'teacher_first', 'teacher_last']]\n",
    "        .drop_duplicates()\n",
    "    )\n",
    ")"
   ]
  },
  {
   "cell_type": "code",
   "execution_count": 10,
   "id": "9e2e3097",
   "metadata": {},
   "outputs": [],
   "source": [
    "# updateSpreadsheet(\n",
    "#     fallTeacherLoadReport, \n",
    "#     tab_name='Fall',\n",
    "#     sheet_id=\"1KBvQBKxw4zlyeQbASRpn1vBkm9m86y0Tvd9Ykr9pq08\"\n",
    "# )"
   ]
  },
  {
   "cell_type": "code",
   "execution_count": 11,
   "id": "d30158d4",
   "metadata": {},
   "outputs": [],
   "source": [
    "updateSpreadsheet(\n",
    "    fallTeacherLoadReport,\n",
    "    tab_name=\"New Test\",\n",
    "    sheet_id=\"1KBvQBKxw4zlyeQbASRpn1vBkm9m86y0Tvd9Ykr9pq08\"\n",
    ")"
   ]
  },
  {
   "cell_type": "code",
   "execution_count": 12,
   "id": "56a9f725",
   "metadata": {},
   "outputs": [],
   "source": [
    "import gspread\n",
    "gc = gspread.service_account()\n",
    "sheet = gc.open_by_key('1KBvQBKxw4zlyeQbASRpn1vBkm9m86y0Tvd9Ykr9pq08')\n",
    "worksheet = sheet.worksheet('New Test')"
   ]
  },
  {
   "cell_type": "code",
   "execution_count": 13,
   "id": "03bd3c98",
   "metadata": {},
   "outputs": [],
   "source": [
    "# worksheet.clear()"
   ]
  },
  {
   "cell_type": "code",
   "execution_count": 14,
   "id": "4456ce4a",
   "metadata": {},
   "outputs": [],
   "source": [
    "# worksheet.columns_auto_resize(0, 100)"
   ]
  }
 ],
 "metadata": {
  "kernelspec": {
   "display_name": "Python 3 (ipykernel)",
   "language": "python",
   "name": "python3"
  },
  "language_info": {
   "codemirror_mode": {
    "name": "ipython",
    "version": 3
   },
   "file_extension": ".py",
   "mimetype": "text/x-python",
   "name": "python",
   "nbconvert_exporter": "python",
   "pygments_lexer": "ipython3",
   "version": "3.9.10"
  }
 },
 "nbformat": 4,
 "nbformat_minor": 5
}
