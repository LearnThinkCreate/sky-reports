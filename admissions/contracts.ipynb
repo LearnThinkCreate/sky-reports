{
 "cells": [
  {
   "cell_type": "code",
   "execution_count": 1,
   "id": "75a8aa7b",
   "metadata": {},
   "outputs": [],
   "source": [
    "# Changing the working directory\n",
    "import os\n",
    "os.chdir('../')"
   ]
  },
  {
   "cell_type": "code",
   "execution_count": 2,
   "id": "f797c469",
   "metadata": {},
   "outputs": [],
   "source": [
    "from utils import *\n",
    "from skydb.sheets import updateSpreadsheet"
   ]
  },
  {
   "cell_type": "code",
   "execution_count": 3,
   "id": "d3a9ad52",
   "metadata": {},
   "outputs": [],
   "source": [
    "contracts = getContracts()\n",
    "updateSpreadsheet(contracts.fillna(\"\"), \n",
    "                  sheet_id='1mvQHDi9TkNt0hJY8meLqxiSuOg_xFcf0UKdQ7F4vlJU'\n",
    "                 )"
   ]
  },
  {
   "cell_type": "code",
   "execution_count": null,
   "id": "60bd8d62",
   "metadata": {},
   "outputs": [],
   "source": [
    "contracts.head(5)"
   ]
  },
  {
   "cell_type": "code",
   "execution_count": null,
   "id": "fcd54110",
   "metadata": {},
   "outputs": [],
   "source": [
    "contracts.columns"
   ]
  },
  {
   "cell_type": "code",
   "execution_count": null,
   "id": "1e48230e",
   "metadata": {},
   "outputs": [],
   "source": [
    "contracts = contracts[[\n",
    "    'user_id', 'role', 'grade_level', 'gender',\n",
    "    'not_returning', 'payment_plan', 'ethnicity', 'contract_year'\n",
    "]]"
   ]
  }
 ],
 "metadata": {
  "kernelspec": {
   "display_name": "Python 3 (ipykernel)",
   "language": "python",
   "name": "python3"
  },
  "language_info": {
   "codemirror_mode": {
    "name": "ipython",
    "version": 3
   },
   "file_extension": ".py",
   "mimetype": "text/x-python",
   "name": "python",
   "nbconvert_exporter": "python",
   "pygments_lexer": "ipython3",
   "version": "3.10.0"
  }
 },
 "nbformat": 4,
 "nbformat_minor": 5
}
