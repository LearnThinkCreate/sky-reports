{
 "cells": [
  {
   "cell_type": "code",
   "execution_count": 13,
   "id": "5ea13f38",
   "metadata": {},
   "outputs": [],
   "source": [
    "# Changing the working directory\n",
    "import os\n",
    "os.chdir('../')\n",
    "\n",
    "import gspread\n",
    "from utils import *\n",
    "from skydb.sheets import updateSpreadsheet, createSpreadsheet"
   ]
  },
  {
   "cell_type": "code",
   "execution_count": 2,
   "id": "3808c606",
   "metadata": {},
   "outputs": [],
   "source": [
    "records = getOfficialRecords()\n",
    "grades = records['grades']\n",
    "gpas = records['gpas']\n",
    "students = getStudents().drop(['birth_date'], axis=1)\n",
    "psat_scores = getPsatScores()"
   ]
  },
  {
   "cell_type": "code",
   "execution_count": 19,
   "id": "97879a8e",
   "metadata": {},
   "outputs": [],
   "source": [
    "\"\"\" PSAT Scores \"\"\"\n",
    "psat_students = (\n",
    "    students\n",
    "    .query(\"\"\"grade_level in [9,10,11]\"\"\")\n",
    "    .drop('counselor', axis=1)\n",
    "    .rename(columns={'id':'user_id'})\n",
    "    .astype({'user_id':'int64', 'student_id':'float', 'grade_level':'int64'})\n",
    "    .merge(psat_scores,\n",
    "                'left',\n",
    "                on='user_id'\n",
    "    )\n",
    ")"
   ]
  },
  {
   "cell_type": "code",
   "execution_count": 20,
   "id": "9a2a226a",
   "metadata": {},
   "outputs": [],
   "source": [
    "\"\"\" Cumulative GPA \"\"\"\n",
    "gpa_students = (\n",
    "    psat_students\n",
    "    .merge(gpas,\n",
    "           'inner',\n",
    "           on='user_id'\n",
    "    )\n",
    ")"
   ]
  },
  {
   "cell_type": "code",
   "execution_count": 21,
   "id": "e2158c52",
   "metadata": {},
   "outputs": [],
   "source": [
    "\"\"\" Cleaning English/History Grades \"\"\"\n",
    "raw_english_grades = grades.loc[grades.transcript_category.str.contains('English|History')].copy()\n",
    "for index, row in raw_english_grades.iterrows():\n",
    "    if row['school_year'] == '2021 - 2022' and row['term'] == 'Fall':\n",
    "        raw_english_grades.loc[index, 'official_grade'] = row['grade']\n",
    "    elif row['term'] == 'Spring':\n",
    "        raw_english_grades.loc[index, 'official_grade'] = row['grade']\n",
    "    else:\n",
    "        raw_english_grades.loc[index, 'official_grade'] = None\n",
    "        \n",
    "english_grades = raw_english_grades[~raw_english_grades.official_grade.isna()].copy().drop('grade', axis=1)\n",
    "\n",
    "\"\"\" Adding label for English/History classes\"\"\"\n",
    "english_grades['label'] = (\n",
    "    english_grades['transcript_category'] +\n",
    "    (\n",
    "        english_grades\n",
    "        .groupby(['user_id', 'transcript_category'])\n",
    "        .cumcount()\n",
    "    ).astype('str')\n",
    ")\n",
    "\n",
    "english_grades.label = english_grades.label.str.replace(' ', '')"
   ]
  },
  {
   "cell_type": "code",
   "execution_count": 22,
   "id": "74442058",
   "metadata": {},
   "outputs": [],
   "source": [
    "\"\"\" Spread Data \"\"\"\n",
    "clean_english_students = (\n",
    "    english_grades\n",
    "    .groupby(['user_id', 'label'])\n",
    "    [['official_grade', 'course_title']]\n",
    "    .first()\n",
    "    .unstack()\n",
    "    .copy()\n",
    ")"
   ]
  },
  {
   "cell_type": "code",
   "execution_count": 23,
   "id": "a03a4ee2",
   "metadata": {},
   "outputs": [],
   "source": [
    "\"\"\" Spread Data \"\"\"\n",
    "clean_english_students = (\n",
    "    english_grades\n",
    "    .groupby(['user_id', 'label'])\n",
    "    [['official_grade', 'course_title']]\n",
    "    .first()\n",
    "    .unstack()\n",
    "    .copy()\n",
    ")\n",
    "\n",
    "\"\"\" Cleaning Column Names \"\"\"\n",
    "clean_english_students.columns = (\n",
    "clean_english_students.columns.get_level_values(1) + \" \"+ clean_english_students.columns.get_level_values(0)\n",
    ")\n",
    "\n",
    "clean_english_students = clean_english_students[[\n",
    "    'English0 course_title', 'English0 official_grade',\n",
    "    'History0 course_title', 'History0 official_grade',\n",
    "    'English1 course_title', 'English1 official_grade',\n",
    "    'History1 course_title', 'History1 official_grade',\n",
    "    'English2 course_title', 'English2 official_grade',\n",
    "    'History2 course_title', 'History2 official_grade',\n",
    "    'English3 course_title', 'English3 official_grade',\n",
    "    'History3 course_title', 'History3 official_grade',\n",
    "    'English4 course_title', 'English4 official_grade',\n",
    "    'History4 course_title', 'History4 official_grade',\n",
    "    'History5 course_title', 'History5 official_grade',\n",
    "    'History6 course_title', 'History6 official_grade',\n",
    "    'History7 course_title', 'History7 official_grade',\n",
    "]].reset_index()\n"
   ]
  },
  {
   "cell_type": "code",
   "execution_count": 24,
   "id": "12bc54b3",
   "metadata": {},
   "outputs": [],
   "source": [
    "\"\"\" Joining with student Data \"\"\"\n",
    "english_data = (\n",
    "    gpa_students\n",
    "    .merge(clean_english_students,\n",
    "           'inner',\n",
    "           on='user_id'\n",
    "    )\n",
    "    .sort_values(['last_name', 'first_name'])\n",
    "    .drop(['user_id', 'student_id', 'first_name'], axis=1)\n",
    ")"
   ]
  },
  {
   "cell_type": "code",
   "execution_count": 25,
   "id": "c8c46f9a",
   "metadata": {},
   "outputs": [],
   "source": [
    "# English Data\n",
    "# updateSpreadsheet(english_data.fillna(''), \n",
    "#                   sheet_id='1NAb2aSSwRuytJvwn9NMcz6oaQChFaPBCvD14cUuprRY',\n",
    "#                   styleClass=HysonFireStyle\n",
    "#                  )"
   ]
  },
  {
   "cell_type": "code",
   "execution_count": 26,
   "id": "986a714c",
   "metadata": {},
   "outputs": [],
   "source": [
    "# History Data\n",
    "# updateSpreadsheet(english_data.fillna(''), \n",
    "#                   sheet_id='1An6cpwBwvdvpF_OpBV5TI74A',\n",
    "#                   styleClass=HysonFireStyle\n",
    "#                  )"
   ]
  },
  {
   "cell_type": "code",
   "execution_count": 28,
   "id": "a18c4feb",
   "metadata": {},
   "outputs": [
    {
     "data": {
      "text/plain": [
       "<Spreadsheet 'English Course Request - Tableau' id:1z247PDabm3k72Y_6E384RsZAZoanWTkOkENhPGKFRnA>"
      ]
     },
     "execution_count": 28,
     "metadata": {},
     "output_type": "execute_result"
    }
   ],
   "source": [
    "# Tableau Data \n",
    "updateSpreadsheet(english_data.fillna(''), \n",
    "                  sheet_id='1z247PDabm3k72Y_6E384RsZAZoanWTkOkENhPGKFRnA',\n",
    "                  styleClass=HysonFireStyle\n",
    "                 )"
   ]
  }
 ],
 "metadata": {
  "kernelspec": {
   "display_name": "Python 3 (ipykernel)",
   "language": "python",
   "name": "python3"
  },
  "language_info": {
   "codemirror_mode": {
    "name": "ipython",
    "version": 3
   },
   "file_extension": ".py",
   "mimetype": "text/x-python",
   "name": "python",
   "nbconvert_exporter": "python",
   "pygments_lexer": "ipython3",
   "version": "3.9.10"
  }
 },
 "nbformat": 4,
 "nbformat_minor": 5
}
