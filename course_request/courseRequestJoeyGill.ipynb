{
 "cells": [
  {
   "cell_type": "code",
   "execution_count": null,
   "id": "8a2d0699",
   "metadata": {},
   "outputs": [],
   "source": [
    "# Changing the working directory\n",
    "import os\n",
    "os.chdir('../')"
   ]
  },
  {
   "cell_type": "code",
   "execution_count": null,
   "id": "52eeda07",
   "metadata": {},
   "outputs": [],
   "source": [
    "import pandas as pd\n",
    "from utils import *\n",
    "from skydb.sheets import updateSpreadsheet"
   ]
  },
  {
   "cell_type": "code",
   "execution_count": null,
   "id": "f415452c",
   "metadata": {},
   "outputs": [],
   "source": [
    "students = sky.getUsers()\n",
    "freshman = students.loc[\n",
    "    students['student_info.grade_level'] == '9',\n",
    "    ['id', 'student_id', 'first_name', 'last_name']\n",
    "].rename(columns={\n",
    "    'id':'user_id'\n",
    "}).astype({\n",
    "    'student_id':'int64'\n",
    "})"
   ]
  },
  {
   "cell_type": "code",
   "execution_count": null,
   "id": "4908c7a2",
   "metadata": {},
   "outputs": [],
   "source": [
    "enrollments = getEnrollments(True)\n",
    "\n",
    "stem_enrollment =  enrollments.loc[\n",
    "    (enrollments.department_name == 'Mathematics') |\n",
    "    (enrollments.course_title.str.contains('Biology'))\n",
    "].reset_index(drop=True).astype({\n",
    "    'user_id':'int64'\n",
    "}).drop(\n",
    "    ['firstname', 'lastname', 'section_code',\n",
    "     'course_code', 'block', 'level_description',\n",
    "    'term_name'\n",
    "    ], \n",
    "    axis=1\n",
    ")"
   ]
  },
  {
   "cell_type": "code",
   "execution_count": null,
   "id": "74cd3cc5",
   "metadata": {},
   "outputs": [],
   "source": [
    "psat_scores = pd.read_csv('data_files/psat9th.csv')"
   ]
  },
  {
   "cell_type": "code",
   "execution_count": null,
   "id": "619053a2",
   "metadata": {},
   "outputs": [],
   "source": [
    "student_gpas = pd.read_csv('data_files/student_gpas.csv')"
   ]
  },
  {
   "cell_type": "code",
   "execution_count": null,
   "id": "59bd7756",
   "metadata": {},
   "outputs": [],
   "source": [
    "sem1grades = getSemesterGrades()\n",
    "sem1grades = sem1grades.loc[\n",
    "    sem1grades.grade_plan == 'Sem 1',\n",
    "    ['user_id', 'section_id', 'grade']\n",
    "].astype({\n",
    "    'user_id':'int64'\n",
    "}).reset_index(drop=True)"
   ]
  },
  {
   "cell_type": "code",
   "execution_count": null,
   "id": "d94cf90a",
   "metadata": {},
   "outputs": [],
   "source": [
    "data = freshman.merge(\n",
    "    stem_enrollment, 'inner'\n",
    ").merge(\n",
    "    psat_scores, 'inner'\n",
    ").merge(\n",
    "    student_gpas, 'inner'\n",
    ").merge(\n",
    "    sem1grades, 'inner', on=['user_id', 'section_id']\n",
    ").sort_values(\n",
    "    by=['last_name', 'first_name']\n",
    ").reset_index(\n",
    "    drop=True\n",
    ").drop(\n",
    "    ['user_id', 'section_id', 'teacher_id', \n",
    "     'student_id', 'department_name', 'teacher_first'\n",
    "    ],\n",
    "    axis=1\n",
    ")"
   ]
  },
  {
   "cell_type": "code",
   "execution_count": null,
   "id": "14a32f84",
   "metadata": {},
   "outputs": [],
   "source": [
    "updateSpreadsheet(\n",
    "    data,\n",
    "    sheet_id='1M-nDl3iKVQpFMQjMc3h2Vy9t5NtMio-o_S_zj7ndsq8'\n",
    ")"
   ]
  }
 ],
 "metadata": {
  "kernelspec": {
   "display_name": "Python 3 (ipykernel)",
   "language": "python",
   "name": "python3"
  },
  "language_info": {
   "codemirror_mode": {
    "name": "ipython",
    "version": 3
   },
   "file_extension": ".py",
   "mimetype": "text/x-python",
   "name": "python",
   "nbconvert_exporter": "python",
   "pygments_lexer": "ipython3",
   "version": "3.9.10"
  }
 },
 "nbformat": 4,
 "nbformat_minor": 5
}
