{
 "cells": [
  {
   "cell_type": "code",
   "execution_count": null,
   "id": "3a8d7e59",
   "metadata": {},
   "outputs": [],
   "source": [
    "# Changing the working directory\n",
    "import os\n",
    "os.chdir('../')\n",
    "\n",
    "import gspread\n",
    "from utils import *\n",
    "from skydb.sheets import updateSpreadsheet"
   ]
  },
  {
   "cell_type": "code",
   "execution_count": null,
   "id": "f40e098d",
   "metadata": {},
   "outputs": [],
   "source": [
    "records = getOfficialRecords()\n",
    "grades = records['grades']\n",
    "gpas = records['gpas']\n",
    "students = getStudents()\n",
    "psat_scores = getPsatScores()"
   ]
  },
  {
   "cell_type": "code",
   "execution_count": null,
   "id": "e0439d02",
   "metadata": {},
   "outputs": [],
   "source": [
    "\"\"\" PSAT Scores \"\"\"\n",
    "math_psat = psat_scores[['user_id', 'math_score']]\n",
    "psat_students = (\n",
    "    students\n",
    "    .query(\"\"\"grade_level in [9,10,11]\"\"\")\n",
    "    .drop('counselor', axis=1)\n",
    "    .rename(columns={'id':'user_id'})\n",
    "    .astype({'user_id':'int64', 'student_id':'float', 'grade_level':'int64'})\n",
    "    .merge(math_psat,\n",
    "                'left',\n",
    "                on='user_id'\n",
    "    )\n",
    ")"
   ]
  },
  {
   "cell_type": "code",
   "execution_count": null,
   "id": "6c207eef",
   "metadata": {},
   "outputs": [],
   "source": [
    "\"\"\" Algebra 1/2 Grades \"\"\"\n",
    "raw_math_grades = grades[grades.course_title.str.contains('Algebra \\\\d')].copy()\n",
    "for index, row in raw_math_grades.iterrows():\n",
    "    if row['school_year'] == '2021 - 2022' and row['term'] == 'Fall':\n",
    "        raw_math_grades.loc[index, 'official_grade'] = row['grade']\n",
    "    elif row['term'] == 'Spring':\n",
    "        raw_math_grades.loc[index, 'official_grade'] = row['grade']\n",
    "    else:\n",
    "        raw_math_grades.loc[index, 'official_grade'] = None\n",
    "        \n",
    "math_grades = raw_math_grades[~raw_math_grades.official_grade.isna()].copy().drop('grade', axis=1)\n",
    "\n",
    "raw_math_students = (\n",
    "    psat_students\n",
    "    .merge(math_grades,\n",
    "           'inner',\n",
    "           on='user_id'\n",
    "    )\n",
    ")\n",
    "\n",
    "\"\"\" Label Alegebra Classes\"\"\"\n",
    "for index, row in raw_math_students.iterrows():\n",
    "    raw_math_students.loc[index, 'label'] = 'Algebra 1' if 'Algebra 1' in row['course_title'] else 'Algebra 2'\n",
    "    \n",
    "\"\"\" Spread Data \"\"\"\n",
    "clean_math_students = (\n",
    "    raw_math_students\n",
    "    .groupby(['user_id','label'])\n",
    "    .official_grade\n",
    "    .first()\n",
    "    .unstack()\n",
    ")\n",
    "\n",
    "\"\"\" Joining with student Data \"\"\"\n",
    "math_students = (\n",
    "    psat_students\n",
    "    .merge(clean_math_students,\n",
    "           'inner',\n",
    "           on='user_id'\n",
    "    )\n",
    ")"
   ]
  },
  {
   "cell_type": "code",
   "execution_count": null,
   "id": "77978f2a",
   "metadata": {},
   "outputs": [],
   "source": [
    "math_students"
   ]
  },
  {
   "cell_type": "code",
   "execution_count": null,
   "id": "ca9087e4",
   "metadata": {},
   "outputs": [],
   "source": [
    "\"\"\" Cumulative GPA \"\"\"\n",
    "math_data = (\n",
    "    math_students\n",
    "    .merge(gpas,\n",
    "           'inner',\n",
    "           on='user_id'\n",
    "    )\n",
    "    .sort_values(['last_name', 'first_name'])\n",
    "    .drop(['user_id', 'student_id', 'first_name'], axis=1)\n",
    ")"
   ]
  },
  {
   "cell_type": "code",
   "execution_count": null,
   "id": "4c9e079f",
   "metadata": {},
   "outputs": [],
   "source": [
    "math_data"
   ]
  },
  {
   "cell_type": "code",
   "execution_count": null,
   "id": "18fdf562",
   "metadata": {},
   "outputs": [],
   "source": [
    "updateSpreadsheet(math_data.fillna(''), \n",
    "                  sheet_id='1xgA6DrPoU3QHGBMZVichqyikiA3X82C8yiUHn1QnxFE',\n",
    "                  styleClass=HysonFireStyle\n",
    "                 )"
   ]
  },
  {
   "cell_type": "code",
   "execution_count": null,
   "id": "9b941595",
   "metadata": {},
   "outputs": [],
   "source": [
    "# gc = gspread.service_account()\n",
    "# spreadsheet = gc.open_by_key('1xgA6DrPoU3QHGBMZVichqyikiA3X82C8yiUHn1QnxFE')\n",
    "# emails = [\n",
    "#     'ebaker@tampaprep.org', 'sbeekman@tampaprep.org', 'pembry@tampaprep.org', 'jkeller@tampaprep.org',\n",
    "#     'bsarkozy@tampaprep.org', 'rharwell@tampaprep.org', \n",
    "# ]\n",
    "# for email in emails:\n",
    "#     spreadsheet.share(email, 'user', 'reader')"
   ]
  }
 ],
 "metadata": {
  "kernelspec": {
   "display_name": "Python 3 (ipykernel)",
   "language": "python",
   "name": "python3"
  },
  "language_info": {
   "codemirror_mode": {
    "name": "ipython",
    "version": 3
   },
   "file_extension": ".py",
   "mimetype": "text/x-python",
   "name": "python",
   "nbconvert_exporter": "python",
   "pygments_lexer": "ipython3",
   "version": "3.9.10"
  }
 },
 "nbformat": 4,
 "nbformat_minor": 5
}
