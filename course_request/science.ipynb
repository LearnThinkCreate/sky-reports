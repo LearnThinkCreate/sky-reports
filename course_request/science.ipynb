{
 "cells": [
  {
   "cell_type": "code",
   "execution_count": 1,
   "id": "9fbe2ab0",
   "metadata": {},
   "outputs": [],
   "source": [
    "# Changing the working directory\n",
    "import os\n",
    "os.chdir('../')\n",
    "\n",
    "import gspread\n",
    "from utils import *\n",
    "from skydb.sheets import updateSpreadsheet, createSpreadsheet"
   ]
  },
  {
   "cell_type": "code",
   "execution_count": 2,
   "id": "fe3a6015",
   "metadata": {},
   "outputs": [],
   "source": [
    "records = getOfficialRecords()\n",
    "grades = records['grades']\n",
    "gpas = records['gpas']\n",
    "students = getStudents().drop(['birth_date'], axis=1)\n",
    "psat_scores = getPsatScores()"
   ]
  },
  {
   "cell_type": "code",
   "execution_count": 3,
   "id": "583d7aef",
   "metadata": {},
   "outputs": [],
   "source": [
    "\"\"\" PSAT Scores \"\"\"\n",
    "psat_students = (\n",
    "    students\n",
    "    .query(\"\"\"grade_level in [9,10,11]\"\"\")\n",
    "    .drop('counselor', axis=1)\n",
    "    .rename(columns={'id':'user_id'})\n",
    "    .astype({'user_id':'int64', 'student_id':'float', 'grade_level':'int64'})\n",
    "    .merge(psat_scores,\n",
    "                'left',\n",
    "                on='user_id'\n",
    "    )\n",
    ")"
   ]
  },
  {
   "cell_type": "code",
   "execution_count": 4,
   "id": "5cd9cbdd",
   "metadata": {},
   "outputs": [],
   "source": [
    "\"\"\" Cumulative GPA \"\"\"\n",
    "gpa_students = (\n",
    "    psat_students\n",
    "    .merge(gpas,\n",
    "           'inner',\n",
    "           on='user_id'\n",
    "    )\n",
    ")"
   ]
  },
  {
   "cell_type": "code",
   "execution_count": 5,
   "id": "7120562e",
   "metadata": {},
   "outputs": [],
   "source": [
    "\"\"\" Cleaning Science/Math Grades \"\"\"\n",
    "raw_science_grades = grades.loc[grades.transcript_category.str.contains('Science|Mathematics')].copy()\n",
    "for index, row in raw_science_grades.iterrows():\n",
    "    if row['school_year'] == '2021 - 2022' and row['term'] == 'Fall':\n",
    "        raw_science_grades.loc[index, 'official_grade'] = row['grade']\n",
    "    elif row['term'] == 'Spring':\n",
    "        raw_science_grades.loc[index, 'official_grade'] = row['grade']\n",
    "    else:\n",
    "        raw_science_grades.loc[index, 'official_grade'] = None\n",
    "        \n",
    "science_grades = raw_science_grades[~raw_science_grades.official_grade.isna()].copy().drop('grade', axis=1)\n",
    "\n",
    "\"\"\" Adding label for math/science classes\"\"\"\n",
    "science_grades['label'] = (\n",
    "    science_grades['transcript_category'] +\n",
    "    (\n",
    "        science_grades\n",
    "        .groupby(['user_id', 'transcript_category'])\n",
    "        .cumcount()\n",
    "    ).astype('str')\n",
    ")\n",
    "\n",
    "science_grades.label = science_grades.label.str.replace(' ', '')"
   ]
  },
  {
   "cell_type": "code",
   "execution_count": 6,
   "id": "75bfe4a8",
   "metadata": {},
   "outputs": [],
   "source": [
    "\"\"\" Spread Data \"\"\"\n",
    "clean_science_students = (\n",
    "    science_grades\n",
    "    .groupby(['user_id', 'label'])\n",
    "    [['official_grade', 'course_title']]\n",
    "    .first()\n",
    "    .unstack()\n",
    "    .copy()\n",
    ")\n",
    "\n",
    "\"\"\" Cleaning Column Names \"\"\"\n",
    "clean_science_students.columns = (\n",
    "clean_science_students.columns.get_level_values(1) + \" \"+ clean_science_students.columns.get_level_values(0)\n",
    ")\n",
    "\n",
    "clean_science_students = clean_science_students[[\n",
    "    'Mathematics0 course_title', 'Mathematics0 official_grade',\n",
    "    'Science0 course_title', 'Science0 official_grade',\n",
    "    'Mathematics1 course_title', 'Mathematics1 official_grade',\n",
    "    'Science1 course_title', 'Science1 official_grade',\n",
    "    'Mathematics2 course_title', 'Mathematics2 official_grade',\n",
    "    'Science2 course_title', 'Science2 official_grade',\n",
    "    'Mathematics3 course_title', 'Mathematics3 official_grade',\n",
    "    'Science3 course_title', 'Science3 official_grade',\n",
    "    'Science4 course_title', 'Science4 official_grade',\n",
    "    'Science5 course_title', 'Science5 official_grade',\n",
    "    'Science6 course_title', 'Science6 official_grade',\n",
    "]].reset_index()\n"
   ]
  },
  {
   "cell_type": "code",
   "execution_count": 7,
   "id": "4867c29a",
   "metadata": {},
   "outputs": [],
   "source": [
    "\"\"\" Joining with student Data \"\"\"\n",
    "science_data = (\n",
    "    gpa_students\n",
    "    .merge(clean_science_students,\n",
    "           'inner',\n",
    "           on='user_id'\n",
    "    )\n",
    "    .sort_values(['last_name', 'first_name'])\n",
    "    .drop(['user_id', 'student_id', 'first_name'], axis=1)\n",
    ")"
   ]
  },
  {
   "cell_type": "code",
   "execution_count": 8,
   "id": "1a0155e8",
   "metadata": {},
   "outputs": [],
   "source": [
    "# updateSpreadsheet(science_data.fillna(''), \n",
    "#                   sheet_id='1yf0CHCaG39S7gL65YOOVrPNgIqVyluC4fT1frQkSGRo',\n",
    "#                   styleClass=HysonFireStyle\n",
    "#                  )"
   ]
  },
  {
   "cell_type": "code",
   "execution_count": null,
   "id": "ac4de5e2",
   "metadata": {},
   "outputs": [],
   "source": [
    "# Tableau Data \n",
    "updateSpreadsheet(english_data.fillna(''), \n",
    "                  sheet_id='1jeG6mJAEG819Mf7jRne8TKZMSh2KDXxzVuC9Y1M',\n",
    "                  styleClass=HysonFireStyle\n",
    "                 )"
   ]
  }
 ],
 "metadata": {
  "kernelspec": {
   "display_name": "Python 3 (ipykernel)",
   "language": "python",
   "name": "python3"
  },
  "language_info": {
   "codemirror_mode": {
    "name": "ipython",
    "version": 3
   },
   "file_extension": ".py",
   "mimetype": "text/x-python",
   "name": "python",
   "nbconvert_exporter": "python",
   "pygments_lexer": "ipython3",
   "version": "3.9.10"
  }
 },
 "nbformat": 4,
 "nbformat_minor": 5
}
