{
 "cells": [
  {
   "cell_type": "code",
   "execution_count": 1,
   "id": "8255bf5c",
   "metadata": {},
   "outputs": [],
   "source": [
    "# Changing the working directory\n",
    "import os\n",
    "os.chdir('../')"
   ]
  },
  {
   "cell_type": "code",
   "execution_count": 19,
   "id": "e4d2216c",
   "metadata": {},
   "outputs": [],
   "source": [
    "import pandas as pd\n",
    "import numpy as np\n",
    "from utils import *\n",
    "from datetime import date\n",
    "from skydb.sheets import readSpreadsheet, createSpreadsheet\n",
    "from skydb.sheets.google_sheets import _get_gc\n",
    "from grades import getRawGrades"
   ]
  },
  {
   "cell_type": "code",
   "execution_count": 3,
   "id": "fcb8854a",
   "metadata": {},
   "outputs": [],
   "source": [
    "# Getting students from the sky API\n",
    "students = sky.getUsers()[\n",
    "        ['student_id', 'id', 'first_name', 'last_name', 'student_info.grade_level']\n",
    "    ].rename(\n",
    "        columns={'id':'student_id', 'student_id':'id', 'student_info.grade_level':\"grade_level\"}\n",
    "    )"
   ]
  },
  {
   "cell_type": "code",
   "execution_count": null,
   "id": "14d08c1e",
   "metadata": {},
   "outputs": [],
   "source": [
    "# Reading the latest School Store data\n",
    "billing = readSpreadsheet(\n",
    "        sheet_name = 'School Store'\n",
    "    ).rename(columns={\n",
    "        'ID Number':\"id\"\n",
    "    })"
   ]
  },
  {
   "cell_type": "code",
   "execution_count": null,
   "id": "0f87ecd9",
   "metadata": {},
   "outputs": [],
   "source": [
    "# Cleaning the billng data\n",
    "billing = billing[\n",
    "        np.isfinite(pd.to_numeric(billing.id, errors='coerce'))\n",
    "    ].merge(students, 'left')[\n",
    "        ['student_id', 'first_name', 'last_name', 'grade_level', 'Amount']\n",
    "    ]\n",
    "\n",
    "billing.Amount = pd.to_numeric(billing.Amount)"
   ]
  },
  {
   "cell_type": "code",
   "execution_count": null,
   "id": "fa86ae72",
   "metadata": {},
   "outputs": [],
   "source": [
    "# Getting the total amount to debt each student\n",
    "billing = billing.groupby(['student_id', 'first_name', 'last_name', 'grade_level']).sum().reset_index()"
   ]
  },
  {
   "cell_type": "code",
   "execution_count": null,
   "id": "562b48c4",
   "metadata": {},
   "outputs": [],
   "source": [
    "# Reading Smart Tuition family ids\n",
    "smart = readSpreadsheet(sheet_name = 'ST IDs')\n",
    "\n",
    "smart.student_id = pd.to_numeric(smart.student_id)"
   ]
  },
  {
   "cell_type": "code",
   "execution_count": null,
   "id": "6b160d7a",
   "metadata": {},
   "outputs": [],
   "source": [
    "# Joining data\n",
    "upload_debts = billing.merge(smart, 'left')"
   ]
  },
  {
   "cell_type": "code",
   "execution_count": null,
   "id": "ac67bd9d",
   "metadata": {},
   "outputs": [],
   "source": [
    "# Writing the data to a google sheet\n",
    "timestamp = date.today().strftime(\"%m/%d/%Y\")\n",
    "\n",
    "sheet_name = \"School Store Smart Upload - \" + timestamp\n",
    "\n",
    "spreadsheet = createSpreadsheet(upload_debts.fillna(''), sheet_name = sheet_name)\n",
    "\n",
    "spreadsheet.share('jmarquez@tampaprep.org', perm_type='user', role='writer')"
   ]
  },
  {
   "cell_type": "code",
   "execution_count": null,
   "id": "0f69c469",
   "metadata": {},
   "outputs": [],
   "source": []
  }
 ],
 "metadata": {
  "kernelspec": {
   "display_name": "Python 3 (ipykernel)",
   "language": "python",
   "name": "python3"
  },
  "language_info": {
   "codemirror_mode": {
    "name": "ipython",
    "version": 3
   },
   "file_extension": ".py",
   "mimetype": "text/x-python",
   "name": "python",
   "nbconvert_exporter": "python",
   "pygments_lexer": "ipython3",
   "version": "3.9.10"
  }
 },
 "nbformat": 4,
 "nbformat_minor": 5
}
