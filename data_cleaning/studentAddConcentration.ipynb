{
 "cells": [
  {
   "cell_type": "code",
   "execution_count": 1,
   "id": "3c092cc8",
   "metadata": {},
   "outputs": [],
   "source": [
    "# Changing the working directory\n",
    "import os\n",
    "os.chdir('../')\n",
    "\n",
    "from utils import *"
   ]
  },
  {
   "cell_type": "code",
   "execution_count": 2,
   "id": "76719cba",
   "metadata": {},
   "outputs": [],
   "source": [
    "students = sky.getUsers()[['id', 'student_id']].rename(columns={'id':'user_id'})"
   ]
  },
  {
   "cell_type": "code",
   "execution_count": 3,
   "id": "c8d25027",
   "metadata": {},
   "outputs": [],
   "source": [
    "concentrations = sky.getAdvancedList(74308).astype({'user_id':'int64'})"
   ]
  },
  {
   "cell_type": "code",
   "execution_count": 4,
   "id": "bf20385f",
   "metadata": {},
   "outputs": [],
   "source": [
    "concentration_enrollments = concentrations.merge(students, 'inner')"
   ]
  },
  {
   "cell_type": "code",
   "execution_count": 5,
   "id": "cc92b194",
   "metadata": {},
   "outputs": [],
   "source": [
    "for index, row in concentration_enrollments.iterrows():\n",
    "    sky.patch(endpoint='users', data={\n",
    "        \"id\":row['user_id'],\n",
    "        'custom_field_two':row['concentration']\n",
    "    })"
   ]
  }
 ],
 "metadata": {
  "kernelspec": {
   "display_name": "Python 3 (ipykernel)",
   "language": "python",
   "name": "python3"
  },
  "language_info": {
   "codemirror_mode": {
    "name": "ipython",
    "version": 3
   },
   "file_extension": ".py",
   "mimetype": "text/x-python",
   "name": "python",
   "nbconvert_exporter": "python",
   "pygments_lexer": "ipython3",
   "version": "3.9.10"
  }
 },
 "nbformat": 4,
 "nbformat_minor": 5
}
