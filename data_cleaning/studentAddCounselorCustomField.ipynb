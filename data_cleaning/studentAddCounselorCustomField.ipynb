{
 "cells": [
  {
   "cell_type": "code",
   "execution_count": null,
   "id": "e46f1b8d",
   "metadata": {},
   "outputs": [],
   "source": [
    "# Changing the working directory\n",
    "import os\n",
    "os.chdir('../')"
   ]
  },
  {
   "cell_type": "code",
   "execution_count": null,
   "id": "3e956625",
   "metadata": {},
   "outputs": [],
   "source": [
    "from utils import *\n",
    "from skydb.sheets import readSpreadsheet"
   ]
  },
  {
   "cell_type": "code",
   "execution_count": null,
   "id": "5c458ca0",
   "metadata": {},
   "outputs": [],
   "source": [
    "students = sky.getUsers()[['id', 'student_id']]"
   ]
  },
  {
   "cell_type": "code",
   "execution_count": null,
   "id": "b22fb00a",
   "metadata": {},
   "outputs": [],
   "source": [
    "counselors = readSpreadsheet(sheet_name='Tampa Prep Counselors')"
   ]
  },
  {
   "cell_type": "code",
   "execution_count": null,
   "id": "e7ee387e",
   "metadata": {},
   "outputs": [],
   "source": [
    "counselors"
   ]
  },
  {
   "cell_type": "code",
   "execution_count": null,
   "id": "f4996f92",
   "metadata": {},
   "outputs": [],
   "source": [
    "for index, row in students.iterrows():\n",
    "    student_id = row['student_id']\n",
    "    user_id = row['id']\n",
    "    if student_id == '':\n",
    "        continue\n",
    "    counselor = counselors.loc[counselors.student_id == student_id, 'counselor']\n",
    "    if counselor.empty:\n",
    "        continue\n",
    "    sky.patch(endpoint='users', data={\n",
    "        \"id\":user_id,\n",
    "        'custom_field_one':counselor.values[0]\n",
    "    })"
   ]
  },
  {
   "cell_type": "code",
   "execution_count": null,
   "id": "66a9d003",
   "metadata": {},
   "outputs": [],
   "source": []
  }
 ],
 "metadata": {
  "kernelspec": {
   "display_name": "Python 3 (ipykernel)",
   "language": "python",
   "name": "python3"
  },
  "language_info": {
   "codemirror_mode": {
    "name": "ipython",
    "version": 3
   },
   "file_extension": ".py",
   "mimetype": "text/x-python",
   "name": "python",
   "nbconvert_exporter": "python",
   "pygments_lexer": "ipython3",
   "version": "3.9.10"
  }
 },
 "nbformat": 4,
 "nbformat_minor": 5
}
