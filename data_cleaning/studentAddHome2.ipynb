{
 "cells": [
  {
   "cell_type": "code",
   "execution_count": null,
   "id": "c9988b0c",
   "metadata": {},
   "outputs": [],
   "source": [
    "# Changing the working directory\n",
    "import os\n",
    "os.chdir('../')"
   ]
  },
  {
   "cell_type": "code",
   "execution_count": 1,
   "id": "743f0c00",
   "metadata": {},
   "outputs": [],
   "source": [
    "from utils import *"
   ]
  },
  {
   "cell_type": "code",
   "execution_count": 2,
   "id": "5e502028",
   "metadata": {},
   "outputs": [],
   "source": [
    "address = sky.getAdvancedList(73559)"
   ]
  },
  {
   "cell_type": "code",
   "execution_count": 3,
   "id": "82aedcb8",
   "metadata": {},
   "outputs": [],
   "source": [
    "address['primary_address_1'] = address['primary_address_1'].astype('str').apply(str.lower)\n",
    "address['address_1'] = address['address_1'].astype('str').apply(str.lower)"
   ]
  },
  {
   "cell_type": "code",
   "execution_count": 4,
   "id": "f86a4218",
   "metadata": {},
   "outputs": [],
   "source": [
    "address = address[[\n",
    "        'user_id', 'firstname', 'lastname', 'primary_address_1', 'primary_address_type',\n",
    "        'address_1', 'address_2', 'address_3', 'city',\n",
    "        'state', 'zip'\n",
    "    ]]"
   ]
  },
  {
   "cell_type": "code",
   "execution_count": 5,
   "id": "35b9b4fe",
   "metadata": {},
   "outputs": [],
   "source": [
    "updateSpreadsheet(address.query(\"\"\"primary_address_1 != address_1 and address_1 != 'nan'\"\"\").fillna(\"\"), \n",
    "                  sheet_id='1kAvRxJo1oqJeg2pddn9DpdrrwSufG-SKSGZaO_kZWCE')"
   ]
  },
  {
   "cell_type": "code",
   "execution_count": null,
   "id": "fe14dd93",
   "metadata": {},
   "outputs": [],
   "source": [
    "address.head(2)"
   ]
  }
 ],
 "metadata": {
  "kernelspec": {
   "display_name": "Python 3 (ipykernel)",
   "language": "python",
   "name": "python3"
  },
  "language_info": {
   "codemirror_mode": {
    "name": "ipython",
    "version": 3
   },
   "file_extension": ".py",
   "mimetype": "text/x-python",
   "name": "python",
   "nbconvert_exporter": "python",
   "pygments_lexer": "ipython3",
   "version": "3.9.7"
  }
 },
 "nbformat": 4,
 "nbformat_minor": 5
}
