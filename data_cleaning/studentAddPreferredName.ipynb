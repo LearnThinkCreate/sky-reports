{
 "cells": [
  {
   "cell_type": "code",
   "execution_count": null,
   "id": "406e610b",
   "metadata": {},
   "outputs": [],
   "source": [
    "# Changing the working directory\n",
    "import os\n",
    "os.chdir('../')"
   ]
  },
  {
   "cell_type": "code",
   "execution_count": 1,
   "id": "7158e7bb",
   "metadata": {},
   "outputs": [],
   "source": [
    "from utils import *"
   ]
  },
  {
   "cell_type": "code",
   "execution_count": 2,
   "id": "1c73f202",
   "metadata": {},
   "outputs": [],
   "source": [
    "parents = sky.getUsers('parent')"
   ]
  },
  {
   "cell_type": "code",
   "execution_count": 3,
   "id": "b40d3759",
   "metadata": {},
   "outputs": [],
   "source": [
    "# Filtering for parents who don't have a preferred_name\n",
    "parents = parents[['id', 'first_name', 'last_name', 'preferred_name']]\n",
    "\n",
    "parents = parents[parents.preferred_name == '']"
   ]
  },
  {
   "cell_type": "code",
   "execution_count": null,
   "id": "4a178e97",
   "metadata": {},
   "outputs": [],
   "source": [
    "for index, row in parents.head(5).iterrows():\n",
    "    sky.patch(endpoint='users', data={\n",
    "        \"id\":row['id'],\n",
    "        'preferred_name':row['first_name']\n",
    "    })\n",
    "    "
   ]
  }
 ],
 "metadata": {
  "kernelspec": {
   "display_name": "Python 3 (ipykernel)",
   "language": "python",
   "name": "python3"
  },
  "language_info": {
   "codemirror_mode": {
    "name": "ipython",
    "version": 3
   },
   "file_extension": ".py",
   "mimetype": "text/x-python",
   "name": "python",
   "nbconvert_exporter": "python",
   "pygments_lexer": "ipython3",
   "version": "3.10.0"
  }
 },
 "nbformat": 4,
 "nbformat_minor": 5
}
