{
 "cells": [
  {
   "cell_type": "code",
   "execution_count": null,
   "id": "c0f5de81",
   "metadata": {},
   "outputs": [],
   "source": [
    "# Changing the working directory\n",
    "import os\n",
    "os.chdir('../')"
   ]
  },
  {
   "cell_type": "code",
   "execution_count": null,
   "id": "e9d18cdd",
   "metadata": {},
   "outputs": [],
   "source": [
    "import pandas as pd\n",
    "from utils import sky"
   ]
  },
  {
   "cell_type": "code",
   "execution_count": null,
   "id": "d022ac2b",
   "metadata": {},
   "outputs": [],
   "source": [
    "students = sky.getUsers('Student')"
   ]
  },
  {
   "cell_type": "code",
   "execution_count": null,
   "id": "6e29e739",
   "metadata": {},
   "outputs": [],
   "source": [
    "df = pd.DataFrame(students.addresses.explode().tolist())\n",
    "df = df.drop(['id', 'shared', 'type_id'], axis=1)"
   ]
  },
  {
   "cell_type": "code",
   "execution_count": null,
   "id": "9694ec01",
   "metadata": {},
   "outputs": [],
   "source": [
    "for col in df.columns:\n",
    "    if df[col].dtype == 'object':\n",
    "        df[col] = df[col].str.title()"
   ]
  },
  {
   "cell_type": "code",
   "execution_count": null,
   "id": "bd6092fd",
   "metadata": {},
   "outputs": [],
   "source": [
    "bio = students[['id', 'first_name', 'last_name']]"
   ]
  },
  {
   "cell_type": "code",
   "execution_count": null,
   "id": "9b8eea88",
   "metadata": {},
   "outputs": [],
   "source": [
    "df = df.merge(bio, left_on='user_id', right_on='id')\n",
    "df = df.drop(['id', 'primary'], axis=1)"
   ]
  },
  {
   "cell_type": "code",
   "execution_count": null,
   "id": "a839f19e",
   "metadata": {},
   "outputs": [],
   "source": [
    "df.rename(columns={\n",
    "    'line_one':'address_1',\n",
    "    'line_two':'address_2',\n",
    "    'line_three':'address_3',\n",
    "    'postal_code':'zip',\n",
    "    'first_name':'firstname',\n",
    "    'last_name':'lastname'\n",
    "}).to_csv('~/Downloads/address_update.csv', index=False)"
   ]
  }
 ],
 "metadata": {
  "kernelspec": {
   "display_name": "Python 3 (ipykernel)",
   "language": "python",
   "name": "python3"
  },
  "language_info": {
   "codemirror_mode": {
    "name": "ipython",
    "version": 3
   },
   "file_extension": ".py",
   "mimetype": "text/x-python",
   "name": "python",
   "nbconvert_exporter": "python",
   "pygments_lexer": "ipython3",
   "version": "3.9.10"
  }
 },
 "nbformat": 4,
 "nbformat_minor": 5
}
