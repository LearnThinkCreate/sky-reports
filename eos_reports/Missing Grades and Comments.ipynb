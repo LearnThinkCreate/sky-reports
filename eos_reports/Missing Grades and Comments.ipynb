{
 "cells": [
  {
   "cell_type": "code",
   "execution_count": 1,
   "id": "b00533e5",
   "metadata": {},
   "outputs": [],
   "source": [
    "# Changing the working directory\n",
    "import os\n",
    "os.chdir('../')"
   ]
  },
  {
   "cell_type": "code",
   "execution_count": 2,
   "id": "8a4f4205",
   "metadata": {},
   "outputs": [],
   "source": [
    "# Importing module\n",
    "from utils import *"
   ]
  },
  {
   "cell_type": "code",
   "execution_count": 4,
   "id": "0f08c2f9",
   "metadata": {},
   "outputs": [],
   "source": [
    "fullSemesterGrades = getSemesterOneGrades()"
   ]
  },
  {
   "cell_type": "code",
   "execution_count": 5,
   "id": "9f9652f0",
   "metadata": {},
   "outputs": [],
   "source": [
    "# Removing pesky Band/Chorus\n",
    "cleanGrades = fullSemesterGrades[fullSemesterGrades.course_code != \"ARTS0610\"].copy()"
   ]
  },
  {
   "cell_type": "code",
   "execution_count": 6,
   "id": "0c0fd036",
   "metadata": {},
   "outputs": [],
   "source": [
    "wideGrades = cleanGrades.pivot(\n",
    "        index=[\n",
    "            'user_id', 'firstname', 'lastname',\n",
    "            'course_title',  'teacher_last', 'section_code', 'grade_level',\n",
    "            'level_description', 'advisor_id', 'advisor_last', 'advisor_email',\n",
    "            'Section', 'comment', 'block'\n",
    "        ],\n",
    "        columns='grade_plan',\n",
    "        values='grade'\n",
    "    )\n",
    "\n",
    "# Being a good boy\n",
    "wideGrades.fillna(\"\", inplace = True)\n",
    "wideGrades.reset_index(inplace=True)\n",
    "wideGrades.drop('section_code', axis=1, inplace=True)\n",
    "wideGrades = wideGrades.assign(name = wideGrades.lastname + \", \" + wideGrades.firstname).copy()"
   ]
  },
  {
   "cell_type": "code",
   "execution_count": 7,
   "id": "43c1dac7",
   "metadata": {},
   "outputs": [],
   "source": [
    "wideGrades = wideGrades.astype({\n",
    "    \"advisor_id\":\"category\",\n",
    "    'level_description':'category',\n",
    "    'user_id':'category'\n",
    "    }).rename(columns={\n",
    "        'grade_level': 'Grade',\n",
    "        'name':'Name',\n",
    "        'advisor_last': 'Advisor',\n",
    "        'course_title':'Course',\n",
    "        'teacher_last': \"Teacher\"\n",
    "})"
   ]
  },
  {
   "cell_type": "code",
   "execution_count": 9,
   "id": "9b91d2c3",
   "metadata": {},
   "outputs": [],
   "source": [
    "missingGrades = wideGrades.query(\"\"\"comment == '' or 'Sem 1' == '' or 'S1 Final Assessment' == '' or  'S1 Final Assessment' == ''\"\"\")"
   ]
  },
  {
   "cell_type": "code",
   "execution_count": 10,
   "id": "826a2895",
   "metadata": {},
   "outputs": [],
   "source": [
    "missingGrades.reset_index(drop=True, inplace=True)"
   ]
  },
  {
   "cell_type": "code",
   "execution_count": 11,
   "id": "85071199",
   "metadata": {},
   "outputs": [],
   "source": [
    "missingGrades = missingGrades[[\n",
    "    'Grade', 'Name', 'Advisor', 'Course', 'Teacher', \n",
    "    'S1 Pre-Assessment', 'S1 Final Assessment', 'Sem 1',\n",
    "    'comment'\n",
    "]].sort_values(['Grade', 'Name'])"
   ]
  },
  {
   "cell_type": "code",
   "execution_count": 12,
   "id": "7d3bb88d",
   "metadata": {},
   "outputs": [],
   "source": [
    "updateSpreadsheet(missingGrades, sheet_id = '1-zxoKuVgTxj1g5RepZmn-oFyp4ims1d9HQwsXqUtBqA')"
   ]
  }
 ],
 "metadata": {
  "kernelspec": {
   "display_name": "Python 3 (ipykernel)",
   "language": "python",
   "name": "python3"
  },
  "language_info": {
   "codemirror_mode": {
    "name": "ipython",
    "version": 3
   },
   "file_extension": ".py",
   "mimetype": "text/x-python",
   "name": "python",
   "nbconvert_exporter": "python",
   "pygments_lexer": "ipython3",
   "version": "3.10.0"
  }
 },
 "nbformat": 4,
 "nbformat_minor": 5
}
