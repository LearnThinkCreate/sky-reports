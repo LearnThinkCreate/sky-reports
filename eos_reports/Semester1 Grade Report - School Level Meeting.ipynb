{
 "cells": [
  {
   "cell_type": "code",
   "execution_count": 1,
   "id": "65858ff5",
   "metadata": {},
   "outputs": [],
   "source": [
    "# Changing the working directory\n",
    "import os\n",
    "os.chdir('../')"
   ]
  },
  {
   "cell_type": "code",
   "execution_count": 2,
   "id": "42509ee7",
   "metadata": {},
   "outputs": [],
   "source": [
    "from utils import *"
   ]
  },
  {
   "cell_type": "code",
   "execution_count": 3,
   "id": "80b78c2a",
   "metadata": {},
   "outputs": [],
   "source": [
    "# Pulling the students level descriptions\n",
    "students = sky.getAdvancedList(73113)[\n",
    "        ['user_id', 'level_description', 'grade_level', 'advisor_id']\n",
    "    ].astype(\n",
    "        {'user_id':'int64'\n",
    "    })"
   ]
  },
  {
   "cell_type": "code",
   "execution_count": 4,
   "id": "315a7c93",
   "metadata": {},
   "outputs": [],
   "source": [
    "# Pulling advisors for Tableau sorting\n",
    "advisors = getAdvisors()\n",
    "\n",
    "advisors.Section = advisors.Section.str.replace(' ', '')"
   ]
  },
  {
   "cell_type": "code",
   "execution_count": 5,
   "id": "06948271",
   "metadata": {},
   "outputs": [],
   "source": [
    "semesterGrades = getSemesterGrades()"
   ]
  },
  {
   "cell_type": "code",
   "execution_count": 6,
   "id": "fe968e36",
   "metadata": {},
   "outputs": [],
   "source": [
    "# Joining data\n",
    "fullSemesterGrades = semesterGrades.merge(students, 'inner').merge(advisors, 'inner')\n",
    "\n",
    "# Being a good boy\n",
    "fullSemesterGrades.reset_index(inplace = True, drop = True)\n",
    "fullSemesterGrades.drop_duplicates(inplace=True)\n",
    "\n",
    "# Removing pesky Band/Chorus\n",
    "cleanGrades = fullSemesterGrades[fullSemesterGrades.course_code != \"ARTS0610\"].copy()"
   ]
  },
  {
   "cell_type": "code",
   "execution_count": 7,
   "id": "900037c1",
   "metadata": {},
   "outputs": [
    {
     "data": {
      "text/plain": [
       "Index(['user_id', 'firstname', 'lastname', 'course_title', 'course_code',\n",
       "       'term_name', 'block', 'teacher_first', 'teacher_last',\n",
       "       'department_name', 'advisor_id', 'section_code', 'grade', 'grade_plan',\n",
       "       'comment', 'level_description', 'grade_level', 'advisor_first',\n",
       "       'advisor_last', 'advisor_email', 'Section'],\n",
       "      dtype='object', name='name')"
      ]
     },
     "execution_count": 7,
     "metadata": {},
     "output_type": "execute_result"
    }
   ],
   "source": [
    "cleanGrades.columns"
   ]
  },
  {
   "cell_type": "code",
   "execution_count": 8,
   "id": "00bf95b0",
   "metadata": {
    "scrolled": true
   },
   "outputs": [],
   "source": [
    "wideGrades = cleanGrades.pivot(\n",
    "        index=[\n",
    "            'user_id', 'firstname', 'lastname',\n",
    "            'course_title',  'teacher_last', 'section_code', 'grade_level',\n",
    "            'level_description', 'advisor_id', 'advisor_last', 'advisor_email',\n",
    "            'Section', 'comment', 'block'\n",
    "        ],\n",
    "        columns='grade_plan',\n",
    "        values='grade'\n",
    "    )\n",
    "\n",
    "# Being a good boy\n",
    "wideGrades.fillna(\"\", inplace = True)\n",
    "wideGrades.reset_index(inplace=True)\n",
    "wideGrades.drop('section_code', axis=1, inplace=True)\n",
    "wideGrades = wideGrades.assign(name = wideGrades.lastname + \", \" + wideGrades.firstname).copy()"
   ]
  },
  {
   "cell_type": "code",
   "execution_count": 9,
   "id": "9898b9b7",
   "metadata": {},
   "outputs": [],
   "source": [
    "wideGrades = wideGrades.astype({\n",
    "    \"advisor_id\":\"category\",\n",
    "    'level_description':'category',\n",
    "    'user_id':'category'\n",
    "    }).rename(columns={\n",
    "        'grade_level': 'Grade',\n",
    "        'name':'Name',\n",
    "        'advisor_last': 'Advisor',\n",
    "        'course_title':'Course',\n",
    "        'teacher_last': \"Teacher\"\n",
    "})"
   ]
  },
  {
   "cell_type": "code",
   "execution_count": 10,
   "id": "612ead18",
   "metadata": {},
   "outputs": [],
   "source": [
    "levels = ['Middle School', 'Upper School']\n",
    "advisors =  wideGrades.advisor_id.cat.categories"
   ]
  },
  {
   "cell_type": "code",
   "execution_count": 11,
   "id": "70f2e9a8",
   "metadata": {},
   "outputs": [
    {
     "data": {
      "text/plain": [
       "Index(['user_id', 'firstname', 'lastname', 'Course', 'Teacher', 'Grade',\n",
       "       'level_description', 'advisor_id', 'Advisor', 'advisor_email',\n",
       "       'Section', 'comment', 'block', '', 'S1 Final Assessment',\n",
       "       'S1 Pre-Assessment', 'Sem 1', 'Name'],\n",
       "      dtype='object', name='grade_plan')"
      ]
     },
     "execution_count": 11,
     "metadata": {},
     "output_type": "execute_result"
    }
   ],
   "source": [
    "wideGrades.columns"
   ]
  },
  {
   "cell_type": "code",
   "execution_count": 12,
   "id": "9ec05dbd",
   "metadata": {
    "scrolled": true
   },
   "outputs": [],
   "source": [
    "# data = wideGrades.loc[wideGrades.advisor_id == advisors[0], \n",
    "#                ['grade_level', 'user_id', 'course_title', 'teacher_last', 'S1 Pre-Assessment',\n",
    "#                'S1 Final Assessment', 'Sem 1', 'comment']\n",
    "#               ]"
   ]
  },
  {
   "cell_type": "code",
   "execution_count": 13,
   "id": "faee67ba",
   "metadata": {},
   "outputs": [],
   "source": [
    "# advisor = wideGrades.loc[wideGrades.advisor_id == advisors[0], \n",
    "#                ['advisor_id', 'advisor_last', 'Section', 'advisor_email']\n",
    "#               ].drop_duplicates()"
   ]
  },
  {
   "cell_type": "code",
   "execution_count": 14,
   "id": "3a2c786c",
   "metadata": {},
   "outputs": [],
   "source": [
    "ms = wideGrades.loc[wideGrades.level_description == 'Middle School',\n",
    "               ['Grade', 'Name',  'Advisor',\n",
    "                'Course', 'Teacher', 'S1 Pre-Assessment',\n",
    "               'S1 Final Assessment', 'Sem 1']\n",
    "              ].sort_values(['Grade', 'Advisor', 'Name'])\n",
    "\n",
    "ms.fillna(\"\", inplace = True)"
   ]
  },
  {
   "cell_type": "code",
   "execution_count": 15,
   "id": "63ef890a",
   "metadata": {},
   "outputs": [],
   "source": [
    "updateSpreadsheet(\n",
    "        ms, \n",
    "        sheet_id = '1juxSoJZjzoxR-i_QX-NFgyJvQr78j-IfkEriBoHUa5Y'\n",
    "    )"
   ]
  },
  {
   "cell_type": "code",
   "execution_count": 16,
   "id": "189d9366",
   "metadata": {},
   "outputs": [],
   "source": [
    "us = wideGrades.loc[wideGrades.level_description == 'Upper School',\n",
    "               ['Grade', 'Name',  'Advisor',\n",
    "                'Course', 'Teacher', 'S1 Pre-Assessment',\n",
    "               'S1 Final Assessment', 'Sem 1']\n",
    "              ].sort_values(['Grade', 'Name'])\n",
    "\n",
    "us.fillna(\"\", inplace = True)"
   ]
  },
  {
   "cell_type": "code",
   "execution_count": 17,
   "id": "830a0fec",
   "metadata": {},
   "outputs": [],
   "source": [
    "updateSpreadsheet(\n",
    "        us, \n",
    "        sheet_id = '10oUvyQPKu5v_PSbsl1J0cKzsQEWIsSGZI5SsxkmfuKI'\n",
    "    )"
   ]
  }
 ],
 "metadata": {
  "kernelspec": {
   "display_name": "Python 3 (ipykernel)",
   "language": "python",
   "name": "python3"
  },
  "language_info": {
   "codemirror_mode": {
    "name": "ipython",
    "version": 3
   },
   "file_extension": ".py",
   "mimetype": "text/x-python",
   "name": "python",
   "nbconvert_exporter": "python",
   "pygments_lexer": "ipython3",
   "version": "3.10.0"
  }
 },
 "nbformat": 4,
 "nbformat_minor": 5
}
