{
 "cells": [
  {
   "cell_type": "code",
   "execution_count": 1,
   "id": "37959423",
   "metadata": {},
   "outputs": [],
   "source": [
    "# Changing the working directory\n",
    "import os\n",
    "os.chdir('../')"
   ]
  },
  {
   "cell_type": "code",
   "execution_count": 2,
   "id": "42509ee7",
   "metadata": {},
   "outputs": [],
   "source": [
    "from utils import *"
   ]
  },
  {
   "cell_type": "code",
   "execution_count": 3,
   "id": "80b78c2a",
   "metadata": {},
   "outputs": [],
   "source": [
    "# Pulling the students level descriptions\n",
    "# students = sky.getAdvancedList()[\n",
    "#         ['user_id', 'level_description', 'grade_level', 'advisor_id']\n",
    "#     ].astype(\n",
    "#         {'user_id':'int64'\n",
    "#     })"
   ]
  },
  {
   "cell_type": "code",
   "execution_count": 4,
   "id": "06948271",
   "metadata": {},
   "outputs": [],
   "source": [
    "semesterGrades = getSemesterGrades()"
   ]
  },
  {
   "cell_type": "code",
   "execution_count": 5,
   "id": "05308de2",
   "metadata": {},
   "outputs": [],
   "source": [
    "# Updating the Google spreadsheetv\n",
    "# updateSpreadsheet(\n",
    "#         semesterGrades, \n",
    "#         sheet_id='11XR1Y1Bw2ExXXDVwNZEfbgRwWKNpnyktZJfZHUWfsj8'\n",
    "#     )"
   ]
  },
  {
   "cell_type": "code",
   "execution_count": 8,
   "id": "d2fdc45c",
   "metadata": {},
   "outputs": [
    {
     "data": {
      "text/plain": [
       "Index(['block', 'course_code', 'course_title', 'department_name', 'firstname',\n",
       "       'grade_level', 'lastname', 'level_description', 'section_code',\n",
       "       'section_id', 'teacher_first', 'teacher_id', 'teacher_last',\n",
       "       'term_name', 'user_id', 'grade', 'grade_plan', 'comment', 'advisor_id',\n",
       "       'advisor_first', 'advisor_last', 'advisor_email', 'Section'],\n",
       "      dtype='object', name='name')"
      ]
     },
     "execution_count": 8,
     "metadata": {},
     "output_type": "execute_result"
    }
   ],
   "source": [
    "semesterGrades.columns"
   ]
  }
 ],
 "metadata": {
  "kernelspec": {
   "display_name": "Python 3 (ipykernel)",
   "language": "python",
   "name": "python3"
  },
  "language_info": {
   "codemirror_mode": {
    "name": "ipython",
    "version": 3
   },
   "file_extension": ".py",
   "mimetype": "text/x-python",
   "name": "python",
   "nbconvert_exporter": "python",
   "pygments_lexer": "ipython3",
   "version": "3.10.0"
  }
 },
 "nbformat": 4,
 "nbformat_minor": 5
}
