{
 "cells": [
  {
   "cell_type": "code",
   "execution_count": null,
   "id": "25151156",
   "metadata": {},
   "outputs": [],
   "source": [
    "# Changing the working directory\n",
    "import os\n",
    "os.chdir('../')"
   ]
  },
  {
   "cell_type": "code",
   "execution_count": 1,
   "id": "56fc5a96",
   "metadata": {},
   "outputs": [],
   "source": [
    "from utils import *\n",
    "from jinja2 import Environment, FileSystemLoader\n",
    "from weasyprint import HTML"
   ]
  },
  {
   "cell_type": "code",
   "execution_count": 2,
   "id": "09e1f03f",
   "metadata": {},
   "outputs": [],
   "source": [
    "# Formating Pandas Dataframe\n",
    "pd.options.display.float_format = '${:,.2f}'.format\n",
    "pd.options.display.html.border = 2\n",
    "pd.options.display.html.table_schema = True"
   ]
  },
  {
   "cell_type": "code",
   "execution_count": 3,
   "id": "6007f002",
   "metadata": {},
   "outputs": [],
   "source": [
    "# Reading the transactions from a Google Sheet\n",
    "# data = readSpreadsheet(sheet_id='1c1Ou1VPT3qYzob267nnVdkKFZJX68KhMNRZ1XQMKwG0').convert_dtypes()\n",
    "data = readSpreadsheet(sheet_id='1iqvTzSZ6COavTL1hDF3NU_9jZF-aEy06umGwhRbpCQQ').convert_dtypes()\n",
    "data = data.astype({'TOTAL_AMT':'float'})"
   ]
  },
  {
   "cell_type": "code",
   "execution_count": 4,
   "id": "30cf4965",
   "metadata": {},
   "outputs": [],
   "source": [
    "# Ccs50 Finance formating\n",
    "def usd(value):\n",
    "    \"\"\"Format value as USD.\"\"\"\n",
    "    return f\"${value:,.2f}\""
   ]
  },
  {
   "cell_type": "code",
   "execution_count": 5,
   "id": "6d71fc1a",
   "metadata": {},
   "outputs": [],
   "source": [
    "# Loading the template \n",
    "env = Environment(loader=FileSystemLoader('.'))\n",
    "template = env.get_template(\"pdf_report_templates/acountdetails.html\")"
   ]
  },
  {
   "cell_type": "code",
   "execution_count": 6,
   "id": "2b463380",
   "metadata": {},
   "outputs": [],
   "source": [
    "# Finding the Running Balance for each student\n",
    "data['Running Total'] = data.groupby('student_id').cumsum(axis=0)"
   ]
  },
  {
   "cell_type": "code",
   "execution_count": 7,
   "id": "a9e03a7a",
   "metadata": {},
   "outputs": [],
   "source": [
    "# Finding each student's balance, filtering for peole who owe money\n",
    "balances = data.groupby('student_id')['TOTAL_AMT'].sum().round(2)\n",
    "balances.rename('Balance', inplace=True)\n",
    "balances = balances[balances > 0].reset_index()"
   ]
  },
  {
   "cell_type": "code",
   "execution_count": 8,
   "id": "ba54332e",
   "metadata": {},
   "outputs": [],
   "source": [
    "# Filtering data, renaming columns\n",
    "clean_data = data.merge(balances, 'inner')[[\n",
    "        'student_id', 'DESCRIPTION',\n",
    "        'CHARGE_DATE', 'TOTAL_AMT', \n",
    "        'Running Total', 'Balance',\n",
    "        'student_last', 'student_first'\n",
    "    ]]\n",
    "\n",
    "clean_data = clean_data.rename(columns={\n",
    "        'DESCRIPTION':'Description',\n",
    "        'CHARGE_DATE':'Date Charged',\n",
    "        'TOTAL_AMT':'Charge Amount'\n",
    "    })"
   ]
  },
  {
   "cell_type": "code",
   "execution_count": 9,
   "id": "652b4ccc",
   "metadata": {},
   "outputs": [],
   "source": [
    "# Pulling Students\n",
    "students = clean_data.student_id.drop_duplicates().tolist()"
   ]
  },
  {
   "cell_type": "code",
   "execution_count": 10,
   "id": "e444e634",
   "metadata": {},
   "outputs": [],
   "source": [
    "for student in students:\n",
    "    # Getting student's data\n",
    "    df = clean_data[clean_data.student_id == student]\n",
    "    balance = usd(df.Balance.drop_duplicates().values[0])\n",
    "    name = df.student_first.drop_duplicates().values[0] + \" \" + df.student_last.drop_duplicates().values[0]\n",
    "    df = df.drop(['student_last', 'student_first', 'student_id', 'Balance'], axis=1)\n",
    "    # Printing the data as a pdf\n",
    "    template_vars = {\"title\" : f\"{name} Account Balance\",\n",
    "                 \"total\": balance,\n",
    "                 \"data\": df.to_html(index=False, justify='left')\n",
    "                }\n",
    "    html_out = template.render(template_vars)\n",
    "    HTML(string=html_out).write_pdf(f\"finance/account_balances/{name}.pdf\")"
   ]
  },
  {
   "cell_type": "code",
   "execution_count": 11,
   "id": "ef9e1e69",
   "metadata": {},
   "outputs": [],
   "source": [
    "# Reseting pandas float formating \n",
    "pd.options.display.float_format = None"
   ]
  },
  {
   "cell_type": "code",
   "execution_count": 12,
   "id": "7ff5f799",
   "metadata": {},
   "outputs": [],
   "source": [
    "# Getting parents from the sky API \n",
    "parents = sky.getUsers('All School')[['id', 'email', 'phones', 'first_name', 'last_name', 'host_id']]"
   ]
  },
  {
   "cell_type": "code",
   "execution_count": 13,
   "id": "6fa0b3c6",
   "metadata": {},
   "outputs": [],
   "source": [
    "# Pulling parent wireless phone numbers\n",
    "phones = parents.explode('phones')['phones'].apply(pd.Series).drop([\n",
    "        0, 'links', 'type_id', 'id', 'index_id'], axis=1)\n",
    "\n",
    "phones = phones[phones.phone_type == 'Wireless']"
   ]
  },
  {
   "cell_type": "code",
   "execution_count": 14,
   "id": "d8012a68",
   "metadata": {},
   "outputs": [],
   "source": [
    "# Cleaning parents data\n",
    "parents = parents.drop('phones', axis=1).rename(columns={'id':'user_id'})\n",
    "parents = parents.merge(phones).drop('phone_type', axis=1)\n",
    "parents['host_id'] = pd.to_numeric(parents.host_id, errors='coerce')"
   ]
  },
  {
   "cell_type": "code",
   "execution_count": null,
   "id": "63916c39",
   "metadata": {},
   "outputs": [],
   "source": [
    "contact_df = data[data.student_id.isin(students)][[\n",
    "        'student_last', 'student_first',\n",
    "        'parent1_host_id',\n",
    "        'parent2_host_id'\n",
    "    ]].drop_duplicates()\n",
    "\n",
    "contact_df = contact_df.astype({\n",
    "        'parent1_host_id':'float',\n",
    "        'parent2_host_id':'float'\n",
    "    })"
   ]
  },
  {
   "cell_type": "code",
   "execution_count": null,
   "id": "4412f052",
   "metadata": {},
   "outputs": [],
   "source": [
    "contact_df = contact_df.merge(\n",
    "        parents.rename(columns={\n",
    "            'host_id':'parent1_host_id',\n",
    "            'user_id':'parent1_user_id',\n",
    "            'email':'parent1_email',\n",
    "            'first_name':'parent1_first',\n",
    "            'last_name':'parent1_last',\n",
    "            'number':'parent1_phone'\n",
    "        }),\n",
    "        'left'\n",
    "    ).merge(\n",
    "        parents.rename(columns={\n",
    "            'host_id':'parent2_host_id',\n",
    "            'user_id':'parent2_user_id',\n",
    "            'email':'parent2_email',\n",
    "            'first_name':'parent2_first',\n",
    "            'last_name':'parent2_last',\n",
    "            'number':'parent2_phone'\n",
    "        }),\n",
    "        'left'\n",
    "    )"
   ]
  },
  {
   "cell_type": "code",
   "execution_count": null,
   "id": "31f64e62",
   "metadata": {},
   "outputs": [],
   "source": [
    "# updateSpreadsheet(contact_df.fillna(\"\"), sheet_id='1C3M0acCboR9wDJNBxRUAQbvFdZ4TmcYoXXNGcKSStdc')"
   ]
  }
 ],
 "metadata": {
  "kernelspec": {
   "display_name": "Python 3 (ipykernel)",
   "language": "python",
   "name": "python3"
  },
  "language_info": {
   "codemirror_mode": {
    "name": "ipython",
    "version": 3
   },
   "file_extension": ".py",
   "mimetype": "text/x-python",
   "name": "python",
   "nbconvert_exporter": "python",
   "pygments_lexer": "ipython3",
   "version": "3.9.7"
  }
 },
 "nbformat": 4,
 "nbformat_minor": 5
}
