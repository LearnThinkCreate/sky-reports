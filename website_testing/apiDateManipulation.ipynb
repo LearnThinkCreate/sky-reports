{
 "cells": [
  {
   "cell_type": "code",
   "execution_count": null,
   "id": "d59fd87e",
   "metadata": {},
   "outputs": [],
   "source": [
    "# Changing the working directory\n",
    "import os\n",
    "os.chdir('../')"
   ]
  },
  {
   "cell_type": "code",
   "execution_count": 1,
   "id": "5587d1d1",
   "metadata": {},
   "outputs": [],
   "source": [
    "import datetime\n",
    "\n",
    "from utils import *"
   ]
  },
  {
   "cell_type": "code",
   "execution_count": 2,
   "id": "e735af68",
   "metadata": {},
   "outputs": [],
   "source": [
    "data = {\n",
    "    'parent_id': 4738325, \n",
    "    'from_date': '2022-01-25T05:00:00.000Z', \n",
    "    'to_date': '2022-01-27T05:00:00.000Z', \n",
    "    'comment': '', \n",
    "    'child_id': '4988484'\n",
    "}"
   ]
  },
  {
   "cell_type": "code",
   "execution_count": 3,
   "id": "5ba9387a",
   "metadata": {},
   "outputs": [],
   "source": [
    "from_date = datetime.datetime.strptime(data['from_date'], \"%Y-%m-%dT%H:%M:%S.%f%z\").strftime('%m/%d/%Y')"
   ]
  },
  {
   "cell_type": "code",
   "execution_count": 4,
   "id": "c521fe7c",
   "metadata": {},
   "outputs": [],
   "source": [
    "to_date = datetime.datetime.strptime(data['to_date'], \"%Y-%m-%dT%H:%M:%S.%f%z\").strftime('%m/%d/%Y')"
   ]
  },
  {
   "cell_type": "code",
   "execution_count": 5,
   "id": "8f1c2aa9",
   "metadata": {},
   "outputs": [
    {
     "data": {
      "text/plain": [
       "'Jan 25, 2022 05:00 AM'"
      ]
     },
     "execution_count": 5,
     "metadata": {},
     "output_type": "execute_result"
    }
   ],
   "source": [
    "# Datetime\n",
    "date = datetime.datetime.strptime(\n",
    "    data['from_date'], \n",
    "    \"%Y-%m-%dT%H:%M:%S.%f%z\"\n",
    "    )\n",
    "date.strftime('%b %d, %Y %H:%M %p')"
   ]
  },
  {
   "cell_type": "code",
   "execution_count": 6,
   "id": "c8a5d666",
   "metadata": {},
   "outputs": [],
   "source": [
    "students = sky.getUsers()"
   ]
  },
  {
   "cell_type": "code",
   "execution_count": 7,
   "id": "181706fb",
   "metadata": {},
   "outputs": [
    {
     "data": {
      "text/plain": [
       "Index(['id', 'addresses', 'abroad', 'affiliation', 'audit_date',\n",
       "       'cc_email_active', 'chat_service', 'citizenship', 'custom_field_eight',\n",
       "       'custom_field_five', 'custom_field_four', 'custom_field_nine',\n",
       "       'custom_field_one', 'custom_field_seven', 'custom_field_six',\n",
       "       'custom_field_ten', 'custom_field_three', 'custom_field_two',\n",
       "       'deceased', 'deceased_date', 'birth_date', 'depart_date', 'display',\n",
       "       'education', 'email', 'cc_email', 'email_active', 'enroll_date',\n",
       "       'boarding_or_day', 'ethnicity', 'first_name', 'gender',\n",
       "       'gender_description', 'pronouns', 'greeting', 'host_id', 'last_name',\n",
       "       'last_sync_date', 'legacy_user_name', 'living_arrangement', 'lost',\n",
       "       'maiden_name', 'middle_name', 'misc_bio', 'nick_name', 'occupations',\n",
       "       'personal_bio', 'personal_website', 'phones', 'prefix',\n",
       "       'preferred_name', 'profile_url', 'relationships', 'religion',\n",
       "       'retire_date', 'roles', 'screen_name', 'student_id', 'suffix',\n",
       "       'username', 'races', 'student_info.grade_level_id',\n",
       "       'student_info.grad_year', 'student_info.grade_level',\n",
       "       'student_info.grade_level_description',\n",
       "       'student_info.grade_level_abbreviation',\n",
       "       'student_info.grade_level_name'],\n",
       "      dtype='object')"
      ]
     },
     "execution_count": 7,
     "metadata": {},
     "output_type": "execute_result"
    }
   ],
   "source": [
    "students.columns"
   ]
  },
  {
   "cell_type": "code",
   "execution_count": 8,
   "id": "83df5d05",
   "metadata": {},
   "outputs": [],
   "source": [
    "students_name = students[['id', 'first_name', 'last_name', 'nick_name']]"
   ]
  },
  {
   "cell_type": "code",
   "execution_count": 9,
   "id": "c0ca5531",
   "metadata": {},
   "outputs": [],
   "source": [
    "no_nickname = students_name.loc[students_name.nick_name == \"\"]"
   ]
  },
  {
   "cell_type": "code",
   "execution_count": 10,
   "id": "df221eac",
   "metadata": {},
   "outputs": [],
   "source": [
    "no_nickname = no_nickname.assign(preferred_name = no_nickname['first_name'])"
   ]
  },
  {
   "cell_type": "code",
   "execution_count": 11,
   "id": "6197d725",
   "metadata": {},
   "outputs": [],
   "source": [
    "no_nickname = no_nickname.drop('nick_name', axis=1)"
   ]
  },
  {
   "cell_type": "code",
   "execution_count": 12,
   "id": "b36cbeac",
   "metadata": {},
   "outputs": [],
   "source": [
    "no_nickname = no_nickname.rename(columns={'id':'user_id', 'first_name':'firstname', 'last_name':'lastname'})"
   ]
  },
  {
   "cell_type": "code",
   "execution_count": 13,
   "id": "97994207",
   "metadata": {},
   "outputs": [],
   "source": [
    "no_nickname.to_csv('~/Downloads/name_update.csv', index=False)"
   ]
  }
 ],
 "metadata": {
  "kernelspec": {
   "display_name": "Python 3 (ipykernel)",
   "language": "python",
   "name": "python3"
  },
  "language_info": {
   "codemirror_mode": {
    "name": "ipython",
    "version": 3
   },
   "file_extension": ".py",
   "mimetype": "text/x-python",
   "name": "python",
   "nbconvert_exporter": "python",
   "pygments_lexer": "ipython3",
   "version": "3.10.0"
  }
 },
 "nbformat": 4,
 "nbformat_minor": 5
}
