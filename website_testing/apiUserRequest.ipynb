{
 "cells": [
  {
   "cell_type": "code",
   "execution_count": null,
   "id": "eb572fa5",
   "metadata": {},
   "outputs": [],
   "source": [
    "# Changing the working directory\n",
    "import os\n",
    "os.chdir('../')"
   ]
  },
  {
   "cell_type": "code",
   "execution_count": null,
   "id": "9b79516c",
   "metadata": {},
   "outputs": [],
   "source": [
    "from utils import *"
   ]
  },
  {
   "cell_type": "code",
   "execution_count": null,
   "id": "fa6e09bb",
   "metadata": {},
   "outputs": [],
   "source": [
    "user_id = 4738325"
   ]
  },
  {
   "cell_type": "code",
   "execution_count": null,
   "id": "6bad9109",
   "metadata": {},
   "outputs": [],
   "source": [
    "sky.get(raw_data=True)"
   ]
  },
  {
   "cell_type": "code",
   "execution_count": null,
   "id": "ee268f2d",
   "metadata": {},
   "outputs": [],
   "source": [
    "sky.get(f\"users/extended/{user_id}\", raw_data=True) "
   ]
  },
  {
   "cell_type": "code",
   "execution_count": null,
   "id": "90f10e8a",
   "metadata": {},
   "outputs": [],
   "source": [
    "# Calling the sky api to get the users data\n",
    "user = sky.get(f\"users/extended/{user_id}\", raw_data=True)"
   ]
  },
  {
   "cell_type": "code",
   "execution_count": null,
   "id": "5e8330b6",
   "metadata": {},
   "outputs": [],
   "source": [
    "# Getting the users biographical data\n",
    "user_bio = pd.json_normalize(user)[['id', 'email', 'first_name', 'last_name', 'preferred_name']]"
   ]
  },
  {
   "cell_type": "code",
   "execution_count": null,
   "id": "e8c1a6b7",
   "metadata": {},
   "outputs": [],
   "source": [
    "test = user_bio.to_dict()"
   ]
  },
  {
   "cell_type": "code",
   "execution_count": null,
   "id": "17475b54",
   "metadata": {},
   "outputs": [],
   "source": [
    "for k in test.keys():\n",
    "    test[k] = test[k][0]\n",
    "    print(test[k])"
   ]
  },
  {
   "cell_type": "code",
   "execution_count": null,
   "id": "71cbd0c1",
   "metadata": {},
   "outputs": [],
   "source": [
    "# Storing the users role in a list\n",
    "roles = pd.json_normalize(user, 'roles').name.tolist()"
   ]
  },
  {
   "cell_type": "code",
   "execution_count": null,
   "id": "2df47783",
   "metadata": {
    "scrolled": true
   },
   "outputs": [],
   "source": [
    "# Storing relationships in a df \n",
    "relationships = pd.json_normalize(user, 'relationships')\n",
    "\n",
    "# Filter for Parent relationships\n",
    "relationships = relationships[relationships.user_one_role.isin(['Parent'])]\n",
    "\n",
    "# Getting full name\n",
    "relationships['full_name'] = relationships.last_name.map(str) + \" \" + relationships.first_name\n",
    "\n",
    "# Storing kids in a list\n",
    "kids = relationships[['full_name', 'user_two_id']].values.tolist()"
   ]
  },
  {
   "cell_type": "code",
   "execution_count": null,
   "id": "bfc9f2ea",
   "metadata": {},
   "outputs": [],
   "source": [
    "roles"
   ]
  }
 ],
 "metadata": {
  "kernelspec": {
   "display_name": "Python 3 (ipykernel)",
   "language": "python",
   "name": "python3"
  },
  "language_info": {
   "codemirror_mode": {
    "name": "ipython",
    "version": 3
   },
   "file_extension": ".py",
   "mimetype": "text/x-python",
   "name": "python",
   "nbconvert_exporter": "python",
   "pygments_lexer": "ipython3",
   "version": "3.10.0"
  }
 },
 "nbformat": 4,
 "nbformat_minor": 5
}
