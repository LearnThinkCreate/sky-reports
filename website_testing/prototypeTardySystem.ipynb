{
 "cells": [
  {
   "cell_type": "code",
   "execution_count": null,
   "id": "4fe7b5d9",
   "metadata": {},
   "outputs": [],
   "source": [
    "# Changing the working directory\n",
    "import os\n",
    "os.chdir('../')"
   ]
  },
  {
   "cell_type": "code",
   "execution_count": 1,
   "id": "2e0e2edd",
   "metadata": {},
   "outputs": [],
   "source": [
    "from utils import *\n",
    "from datetime import date\n",
    "from datetime import datetime"
   ]
  },
  {
   "cell_type": "code",
   "execution_count": 2,
   "id": "417bd1cc",
   "metadata": {},
   "outputs": [],
   "source": [
    "student_id = str(6012)"
   ]
  },
  {
   "cell_type": "code",
   "execution_count": 3,
   "id": "1f323dff",
   "metadata": {},
   "outputs": [],
   "source": [
    "# Getting df of all the students\n",
    "students = sky.getUsers()\n",
    "# Filtering for the Student\n",
    "student = students[students.student_id == student_id]"
   ]
  },
  {
   "cell_type": "code",
   "execution_count": 4,
   "id": "7c66ef14",
   "metadata": {},
   "outputs": [],
   "source": [
    "# Getting the students Enrollments\n",
    "student_enrollments = sky.get(f'academics/enrollments/{student.id.values[0]}')"
   ]
  },
  {
   "cell_type": "code",
   "execution_count": 5,
   "id": "37580e46",
   "metadata": {},
   "outputs": [],
   "source": [
    "# Removing continious courses\n",
    "student_enrollments = student_enrollments[~student_enrollments.id.isna()]"
   ]
  },
  {
   "cell_type": "code",
   "execution_count": 6,
   "id": "291aaeb0",
   "metadata": {},
   "outputs": [],
   "source": [
    "# Cleaning data to be used in the isActive function\n",
    "student_enrollments['begin_date'] = pd.to_datetime(student_enrollments['begin_date'])\n",
    "student_enrollments['end_date'] = pd.to_datetime(student_enrollments['end_date'])"
   ]
  },
  {
   "cell_type": "code",
   "execution_count": 7,
   "id": "2ea8c649",
   "metadata": {},
   "outputs": [],
   "source": [
    "# Adding a column to find active enrollments for students\n",
    "student_enrollments = sky._isActive(student_enrollments)"
   ]
  },
  {
   "cell_type": "code",
   "execution_count": 8,
   "id": "e9c565eb",
   "metadata": {},
   "outputs": [],
   "source": [
    "# Cleaning the student enrollment data\n",
    "student_enrollments = student_enrollments[student_enrollments.active == True].reset_index(drop=True)\n",
    "student_enrollments = student_enrollments[student_enrollments.dropped == 0]"
   ]
  },
  {
   "cell_type": "code",
   "execution_count": 9,
   "id": "1969143b",
   "metadata": {},
   "outputs": [],
   "source": [
    "# Getting today's date to look up the day's schedule\n",
    "today = date.today().strftime(\"%Y-%m-%d\")"
   ]
  },
  {
   "cell_type": "code",
   "execution_count": 10,
   "id": "890a3f6b",
   "metadata": {},
   "outputs": [],
   "source": [
    "# Finding what school level the student is in\n",
    "student_grade = student['student_info.grade_level'].values[0]\n",
    "if int(student_grade) in [6, 7, 8]:\n",
    "    level_abbreviation = 'MS'\n",
    "elif int(student_grade) in [9, 10, 11, 12]:\n",
    "    level_abbreviation = 'US'\n",
    "level_num = sky.get_levels(abbreviation=level_abbreviation, id=True).values[0]"
   ]
  },
  {
   "cell_type": "code",
   "execution_count": 11,
   "id": "ebc85274",
   "metadata": {},
   "outputs": [],
   "source": [
    "# Getting todays master schedule\n",
    "master_schedule = sky.get('academics/schedules/master', params={\n",
    "    'level_num':level_num,\n",
    "    'start_date':today,\n",
    "    'end_date':today\n",
    "})"
   ]
  },
  {
   "cell_type": "code",
   "execution_count": 12,
   "id": "a01f8816",
   "metadata": {},
   "outputs": [],
   "source": [
    "# Pulling the academic schedule sets \n",
    "# Filtering out lunch and other meaningless meeting times\n",
    "valid_schedule_sets = list(sky.get('academics/schedules/sets', \n",
    "             params={'level_num':level_num}\n",
    "            )['schedule_set_id'].values)"
   ]
  },
  {
   "cell_type": "code",
   "execution_count": 13,
   "id": "6ae0c828",
   "metadata": {},
   "outputs": [],
   "source": [
    "# Getting an array of today's schedule sets\n",
    "master_schedule_list = master_schedule.schedule_sets.explode()\n",
    "# Storing active schedule sets in a df\n",
    "todays_schedule = pd.DataFrame()\n",
    "for i in range(len(master_schedule_list)):\n",
    "    # Normalizing the data\n",
    "    df = pd.json_normalize(master_schedule_list.values[i], 'blocks', 'schedule_set_id')\n",
    "    # Checking if the schedule set is Academic\n",
    "    if df['schedule_set_id'].isin(valid_schedule_sets).all():\n",
    "        todays_schedule = todays_schedule.append(df)"
   ]
  },
  {
   "cell_type": "code",
   "execution_count": 14,
   "id": "1020eb7a",
   "metadata": {},
   "outputs": [],
   "source": [
    "# Filtering applicable schedule sets\n",
    "if level_abbreviation == \"MS\":\n",
    "    # Adding ATH to MS since it's in their daily schedule\n",
    "    todays_classes = np.where(\n",
    "        student_enrollments.block_name.isin(todays_schedule.block.tolist()) | \n",
    "        student_enrollments.offering_description.isin(['Athletics'])\n",
    "    )\n",
    "elif level_abbreviation == \"US\":\n",
    "    todays_classes = np.where(\n",
    "        student_enrollments.block_name.isin(todays_schedule.block.tolist())\n",
    "    )"
   ]
  },
  {
   "cell_type": "code",
   "execution_count": 15,
   "id": "19181188",
   "metadata": {},
   "outputs": [],
   "source": [
    "students_schedule_today = student_enrollments.iloc[todays_classes]"
   ]
  },
  {
   "cell_type": "code",
   "execution_count": 16,
   "id": "f25afbce",
   "metadata": {},
   "outputs": [
    {
     "data": {
      "text/html": [
       "<div>\n",
       "<style scoped>\n",
       "    .dataframe tbody tr th:only-of-type {\n",
       "        vertical-align: middle;\n",
       "    }\n",
       "\n",
       "    .dataframe tbody tr th {\n",
       "        vertical-align: top;\n",
       "    }\n",
       "\n",
       "    .dataframe thead th {\n",
       "        text-align: right;\n",
       "    }\n",
       "</style>\n",
       "<table border=\"1\" class=\"dataframe\">\n",
       "  <thead>\n",
       "    <tr style=\"text-align: right;\">\n",
       "      <th></th>\n",
       "      <th>id</th>\n",
       "      <th>begin_date</th>\n",
       "      <th>block_id</th>\n",
       "      <th>block_name</th>\n",
       "      <th>blocks</th>\n",
       "      <th>building_name</th>\n",
       "      <th>changed_sections</th>\n",
       "      <th>course_code</th>\n",
       "      <th>course_length</th>\n",
       "      <th>course_title</th>\n",
       "      <th>...</th>\n",
       "      <th>level_number</th>\n",
       "      <th>offering_description</th>\n",
       "      <th>offering_id</th>\n",
       "      <th>offering_type_id</th>\n",
       "      <th>room_id</th>\n",
       "      <th>room_name</th>\n",
       "      <th>room_number</th>\n",
       "      <th>school_year</th>\n",
       "      <th>section_identifier</th>\n",
       "      <th>active</th>\n",
       "    </tr>\n",
       "  </thead>\n",
       "  <tbody>\n",
       "    <tr>\n",
       "      <th>1</th>\n",
       "      <td>89077242.0</td>\n",
       "      <td>2022-01-03 00:00:00-05:00</td>\n",
       "      <td>20583.0</td>\n",
       "      <td>P2</td>\n",
       "      <td>True</td>\n",
       "      <td>main</td>\n",
       "      <td>0.0</td>\n",
       "      <td>ENGL0701</td>\n",
       "      <td>2.0</td>\n",
       "      <td>English (7)</td>\n",
       "      <td>...</td>\n",
       "      <td>1940</td>\n",
       "      <td>Academics</td>\n",
       "      <td>237148.0</td>\n",
       "      <td>1</td>\n",
       "      <td>34598.0</td>\n",
       "      <td>Room 1208</td>\n",
       "      <td>mai. 1208</td>\n",
       "      <td>2021-2022</td>\n",
       "      <td>1</td>\n",
       "      <td>True</td>\n",
       "    </tr>\n",
       "    <tr>\n",
       "      <th>3</th>\n",
       "      <td>89077356.0</td>\n",
       "      <td>2022-01-03 00:00:00-05:00</td>\n",
       "      <td>20585.0</td>\n",
       "      <td>P4</td>\n",
       "      <td>True</td>\n",
       "      <td>main</td>\n",
       "      <td>0.0</td>\n",
       "      <td>SCIE0701</td>\n",
       "      <td>2.0</td>\n",
       "      <td>Life Science (7)</td>\n",
       "      <td>...</td>\n",
       "      <td>1940</td>\n",
       "      <td>Academics</td>\n",
       "      <td>237203.0</td>\n",
       "      <td>1</td>\n",
       "      <td>34595.0</td>\n",
       "      <td>Room 1203</td>\n",
       "      <td>mai. 1203</td>\n",
       "      <td>2021-2022</td>\n",
       "      <td>2</td>\n",
       "      <td>True</td>\n",
       "    </tr>\n",
       "    <tr>\n",
       "      <th>4</th>\n",
       "      <td>89077300.0</td>\n",
       "      <td>2022-01-03 00:00:00-05:00</td>\n",
       "      <td>20586.0</td>\n",
       "      <td>P5</td>\n",
       "      <td>True</td>\n",
       "      <td>main</td>\n",
       "      <td>0.0</td>\n",
       "      <td>LANG0704</td>\n",
       "      <td>2.0</td>\n",
       "      <td>Spanish 1A (7,8)</td>\n",
       "      <td>...</td>\n",
       "      <td>1940</td>\n",
       "      <td>Academics</td>\n",
       "      <td>237161.0</td>\n",
       "      <td>1</td>\n",
       "      <td>34625.0</td>\n",
       "      <td>Room 2207</td>\n",
       "      <td>mai. 2207</td>\n",
       "      <td>2021-2022</td>\n",
       "      <td>2</td>\n",
       "      <td>True</td>\n",
       "    </tr>\n",
       "    <tr>\n",
       "      <th>5</th>\n",
       "      <td>89077377.0</td>\n",
       "      <td>2022-01-10 11:54:28.033000-05:00</td>\n",
       "      <td>20587.0</td>\n",
       "      <td>P6</td>\n",
       "      <td>True</td>\n",
       "      <td>main</td>\n",
       "      <td>0.0</td>\n",
       "      <td>SCIE0613s</td>\n",
       "      <td>1.0</td>\n",
       "      <td>Programming (8) - Spring</td>\n",
       "      <td>...</td>\n",
       "      <td>1940</td>\n",
       "      <td>Academics</td>\n",
       "      <td>239008.0</td>\n",
       "      <td>1</td>\n",
       "      <td>34873.0</td>\n",
       "      <td>3203</td>\n",
       "      <td>mai. 3203</td>\n",
       "      <td>2021-2022</td>\n",
       "      <td>-2</td>\n",
       "      <td>True</td>\n",
       "    </tr>\n",
       "    <tr>\n",
       "      <th>7</th>\n",
       "      <td>89100582.0</td>\n",
       "      <td>2021-10-25 00:00:00-04:00</td>\n",
       "      <td>NaN</td>\n",
       "      <td></td>\n",
       "      <td>False</td>\n",
       "      <td></td>\n",
       "      <td>0.0</td>\n",
       "      <td>PHED0705</td>\n",
       "      <td>1.0</td>\n",
       "      <td>Boy's Basketball - Winter</td>\n",
       "      <td>...</td>\n",
       "      <td>1940</td>\n",
       "      <td>Athletics</td>\n",
       "      <td>250333.0</td>\n",
       "      <td>9</td>\n",
       "      <td>NaN</td>\n",
       "      <td></td>\n",
       "      <td></td>\n",
       "      <td>2021-2022</td>\n",
       "      <td></td>\n",
       "      <td>True</td>\n",
       "    </tr>\n",
       "  </tbody>\n",
       "</table>\n",
       "<p>5 rows × 31 columns</p>\n",
       "</div>"
      ],
      "text/plain": [
       "           id                        begin_date  block_id block_name  blocks  \\\n",
       "1  89077242.0         2022-01-03 00:00:00-05:00   20583.0         P2    True   \n",
       "3  89077356.0         2022-01-03 00:00:00-05:00   20585.0         P4    True   \n",
       "4  89077300.0         2022-01-03 00:00:00-05:00   20586.0         P5    True   \n",
       "5  89077377.0  2022-01-10 11:54:28.033000-05:00   20587.0         P6    True   \n",
       "7  89100582.0         2021-10-25 00:00:00-04:00       NaN              False   \n",
       "\n",
       "  building_name  changed_sections course_code  course_length  \\\n",
       "1          main               0.0    ENGL0701            2.0   \n",
       "3          main               0.0    SCIE0701            2.0   \n",
       "4          main               0.0    LANG0704            2.0   \n",
       "5          main               0.0   SCIE0613s            1.0   \n",
       "7                             0.0    PHED0705            1.0   \n",
       "\n",
       "                course_title  ... level_number offering_description  \\\n",
       "1                English (7)  ...         1940            Academics   \n",
       "3           Life Science (7)  ...         1940            Academics   \n",
       "4           Spanish 1A (7,8)  ...         1940            Academics   \n",
       "5   Programming (8) - Spring  ...         1940            Academics   \n",
       "7  Boy's Basketball - Winter  ...         1940            Athletics   \n",
       "\n",
       "   offering_id offering_type_id  room_id  room_name  room_number school_year  \\\n",
       "1     237148.0                1  34598.0  Room 1208    mai. 1208   2021-2022   \n",
       "3     237203.0                1  34595.0  Room 1203    mai. 1203   2021-2022   \n",
       "4     237161.0                1  34625.0  Room 2207    mai. 2207   2021-2022   \n",
       "5     239008.0                1  34873.0       3203    mai. 3203   2021-2022   \n",
       "7     250333.0                9      NaN                           2021-2022   \n",
       "\n",
       "  section_identifier active  \n",
       "1                  1   True  \n",
       "3                  2   True  \n",
       "4                  2   True  \n",
       "5                 -2   True  \n",
       "7                      True  \n",
       "\n",
       "[5 rows x 31 columns]"
      ]
     },
     "execution_count": 16,
     "metadata": {},
     "output_type": "execute_result"
    }
   ],
   "source": [
    "students_schedule_today"
   ]
  },
  {
   "cell_type": "code",
   "execution_count": 17,
   "id": "17586df9",
   "metadata": {},
   "outputs": [
    {
     "data": {
      "text/html": [
       "<div>\n",
       "<style scoped>\n",
       "    .dataframe tbody tr th:only-of-type {\n",
       "        vertical-align: middle;\n",
       "    }\n",
       "\n",
       "    .dataframe tbody tr th {\n",
       "        vertical-align: top;\n",
       "    }\n",
       "\n",
       "    .dataframe thead th {\n",
       "        text-align: right;\n",
       "    }\n",
       "</style>\n",
       "<table border=\"1\" class=\"dataframe\">\n",
       "  <thead>\n",
       "    <tr style=\"text-align: right;\">\n",
       "      <th></th>\n",
       "      <th>block_id</th>\n",
       "      <th>block</th>\n",
       "      <th>start_time</th>\n",
       "      <th>end_time</th>\n",
       "      <th>offering_type</th>\n",
       "      <th>is_canceled</th>\n",
       "      <th>schedule_set_id</th>\n",
       "    </tr>\n",
       "  </thead>\n",
       "  <tbody>\n",
       "    <tr>\n",
       "      <th>0</th>\n",
       "      <td>20583</td>\n",
       "      <td>P2</td>\n",
       "      <td>1900-01-01T08:50:00+00:00</td>\n",
       "      <td>1900-01-01T09:45:00+00:00</td>\n",
       "      <td>1</td>\n",
       "      <td>False</td>\n",
       "      <td>10884</td>\n",
       "    </tr>\n",
       "    <tr>\n",
       "      <th>1</th>\n",
       "      <td>20585</td>\n",
       "      <td>P4</td>\n",
       "      <td>1900-01-01T09:50:00+00:00</td>\n",
       "      <td>1900-01-01T10:45:00+00:00</td>\n",
       "      <td>1</td>\n",
       "      <td>False</td>\n",
       "      <td>10884</td>\n",
       "    </tr>\n",
       "    <tr>\n",
       "      <th>2</th>\n",
       "      <td>20586</td>\n",
       "      <td>P5</td>\n",
       "      <td>1900-01-01T10:55:00+00:00</td>\n",
       "      <td>1900-01-01T11:50:00+00:00</td>\n",
       "      <td>1</td>\n",
       "      <td>False</td>\n",
       "      <td>10884</td>\n",
       "    </tr>\n",
       "    <tr>\n",
       "      <th>3</th>\n",
       "      <td>20587</td>\n",
       "      <td>P6</td>\n",
       "      <td>1900-01-01T11:55:00+00:00</td>\n",
       "      <td>1900-01-01T12:50:00+00:00</td>\n",
       "      <td>1</td>\n",
       "      <td>False</td>\n",
       "      <td>10884</td>\n",
       "    </tr>\n",
       "  </tbody>\n",
       "</table>\n",
       "</div>"
      ],
      "text/plain": [
       "   block_id block                 start_time                   end_time  \\\n",
       "0     20583    P2  1900-01-01T08:50:00+00:00  1900-01-01T09:45:00+00:00   \n",
       "1     20585    P4  1900-01-01T09:50:00+00:00  1900-01-01T10:45:00+00:00   \n",
       "2     20586    P5  1900-01-01T10:55:00+00:00  1900-01-01T11:50:00+00:00   \n",
       "3     20587    P6  1900-01-01T11:55:00+00:00  1900-01-01T12:50:00+00:00   \n",
       "\n",
       "   offering_type  is_canceled schedule_set_id  \n",
       "0              1        False           10884  \n",
       "1              1        False           10884  \n",
       "2              1        False           10884  \n",
       "3              1        False           10884  "
      ]
     },
     "execution_count": 17,
     "metadata": {},
     "output_type": "execute_result"
    }
   ],
   "source": [
    "todays_schedule"
   ]
  },
  {
   "cell_type": "code",
   "execution_count": 18,
   "id": "37caca4f",
   "metadata": {},
   "outputs": [
    {
     "data": {
      "text/html": [
       "<div>\n",
       "<style scoped>\n",
       "    .dataframe tbody tr th:only-of-type {\n",
       "        vertical-align: middle;\n",
       "    }\n",
       "\n",
       "    .dataframe tbody tr th {\n",
       "        vertical-align: top;\n",
       "    }\n",
       "\n",
       "    .dataframe thead th {\n",
       "        text-align: right;\n",
       "    }\n",
       "</style>\n",
       "<table border=\"1\" class=\"dataframe\">\n",
       "  <thead>\n",
       "    <tr style=\"text-align: right;\">\n",
       "      <th></th>\n",
       "      <th>category_description</th>\n",
       "      <th>category_id</th>\n",
       "      <th>excuse_type_id</th>\n",
       "      <th>excuse_description</th>\n",
       "      <th>use_in_calculations</th>\n",
       "      <th>excused</th>\n",
       "      <th>duration</th>\n",
       "      <th>attendance_type</th>\n",
       "    </tr>\n",
       "  </thead>\n",
       "  <tbody>\n",
       "    <tr>\n",
       "      <th>0</th>\n",
       "      <td>Attended Class</td>\n",
       "      <td>1768</td>\n",
       "      <td>5604</td>\n",
       "      <td>Present</td>\n",
       "      <td>True</td>\n",
       "      <td>Present</td>\n",
       "      <td>NA</td>\n",
       "      <td>Present</td>\n",
       "    </tr>\n",
       "    <tr>\n",
       "      <th>1</th>\n",
       "      <td>Absent</td>\n",
       "      <td>2183</td>\n",
       "      <td>6702</td>\n",
       "      <td>Absent</td>\n",
       "      <td>True</td>\n",
       "      <td>Unexcused</td>\n",
       "      <td>FullDay</td>\n",
       "      <td>Absence</td>\n",
       "    </tr>\n",
       "    <tr>\n",
       "      <th>2</th>\n",
       "      <td>Absent Excused</td>\n",
       "      <td>1770</td>\n",
       "      <td>5606</td>\n",
       "      <td>School Related Absence</td>\n",
       "      <td>True</td>\n",
       "      <td>Excused</td>\n",
       "      <td>NA</td>\n",
       "      <td>Absence</td>\n",
       "    </tr>\n",
       "    <tr>\n",
       "      <th>3</th>\n",
       "      <td>Tardy Unexcused</td>\n",
       "      <td>1771</td>\n",
       "      <td>5611</td>\n",
       "      <td>Tardy</td>\n",
       "      <td>True</td>\n",
       "      <td>Unexcused</td>\n",
       "      <td>NA</td>\n",
       "      <td>Tardy</td>\n",
       "    </tr>\n",
       "    <tr>\n",
       "      <th>4</th>\n",
       "      <td>Dismissed</td>\n",
       "      <td>2165</td>\n",
       "      <td>6607</td>\n",
       "      <td>Dismissed</td>\n",
       "      <td>True</td>\n",
       "      <td>Unexcused</td>\n",
       "      <td>FullDay</td>\n",
       "      <td>Absence</td>\n",
       "    </tr>\n",
       "    <tr>\n",
       "      <th>5</th>\n",
       "      <td>Tardy Excused</td>\n",
       "      <td>1772</td>\n",
       "      <td>5612</td>\n",
       "      <td>Tardy Excused</td>\n",
       "      <td>False</td>\n",
       "      <td>Excused</td>\n",
       "      <td>NA</td>\n",
       "      <td>Tardy</td>\n",
       "    </tr>\n",
       "    <tr>\n",
       "      <th>6</th>\n",
       "      <td>Tardy Excused</td>\n",
       "      <td>1772</td>\n",
       "      <td>6900</td>\n",
       "      <td>Bus</td>\n",
       "      <td>False</td>\n",
       "      <td>Excused</td>\n",
       "      <td>NA</td>\n",
       "      <td>Tardy</td>\n",
       "    </tr>\n",
       "    <tr>\n",
       "      <th>7</th>\n",
       "      <td>Absent Unexcused</td>\n",
       "      <td>1769</td>\n",
       "      <td>5605</td>\n",
       "      <td>DO NOT USE</td>\n",
       "      <td>True</td>\n",
       "      <td>Unexcused</td>\n",
       "      <td>FullDay</td>\n",
       "      <td>Absence</td>\n",
       "    </tr>\n",
       "  </tbody>\n",
       "</table>\n",
       "</div>"
      ],
      "text/plain": [
       "  category_description  category_id  excuse_type_id      excuse_description  \\\n",
       "0       Attended Class         1768            5604                 Present   \n",
       "1               Absent         2183            6702                  Absent   \n",
       "2       Absent Excused         1770            5606  School Related Absence   \n",
       "3      Tardy Unexcused         1771            5611                  Tardy    \n",
       "4            Dismissed         2165            6607               Dismissed   \n",
       "5        Tardy Excused         1772            5612           Tardy Excused   \n",
       "6        Tardy Excused         1772            6900                     Bus   \n",
       "7     Absent Unexcused         1769            5605              DO NOT USE   \n",
       "\n",
       "   use_in_calculations    excused duration attendance_type  \n",
       "0                 True    Present       NA         Present  \n",
       "1                 True  Unexcused  FullDay         Absence  \n",
       "2                 True    Excused       NA         Absence  \n",
       "3                 True  Unexcused       NA           Tardy  \n",
       "4                 True  Unexcused  FullDay         Absence  \n",
       "5                False    Excused       NA           Tardy  \n",
       "6                False    Excused       NA           Tardy  \n",
       "7                 True  Unexcused  FullDay         Absence  "
      ]
     },
     "execution_count": 18,
     "metadata": {},
     "output_type": "execute_result"
    }
   ],
   "source": [
    "sky.get('types/excusedtypes')"
   ]
  },
  {
   "cell_type": "code",
   "execution_count": 19,
   "id": "cc6e72b6",
   "metadata": {},
   "outputs": [],
   "source": [
    "now = datetime.now().time().strftime(\"%H:%M:%S\")"
   ]
  },
  {
   "cell_type": "code",
   "execution_count": 20,
   "id": "e91ac3df",
   "metadata": {},
   "outputs": [],
   "source": [
    "data={\n",
    "    'student_user_id': int(student.id.values[0]),\n",
    "    'begin_date':datetime.now().strftime('%Y-%m-%dT%H:%M:%SZ'),\n",
    "    'end_date':datetime.now().strftime('%Y-%m-%dT%H:%M:%SZ'),\n",
    "    'excuse_type_id':5604,\n",
    "    'excuse_comment':\"This was a test - autogenerated by W\"\n",
    "}"
   ]
  },
  {
   "cell_type": "code",
   "execution_count": 21,
   "id": "4c738544",
   "metadata": {},
   "outputs": [],
   "source": [
    "attendance_codes = sky.get('types/excusedtypes')"
   ]
  },
  {
   "cell_type": "code",
   "execution_count": 22,
   "id": "e00be446",
   "metadata": {},
   "outputs": [
    {
     "data": {
      "text/plain": [
       "[['Attended Class', 5604],\n",
       " ['Absent', 6702],\n",
       " ['Absent Excused', 5606],\n",
       " ['Tardy Unexcused', 5611],\n",
       " ['Dismissed', 6607],\n",
       " ['Tardy Excused', 5612],\n",
       " ['Tardy Excused', 6900],\n",
       " ['Absent Unexcused', 5605]]"
      ]
     },
     "execution_count": 22,
     "metadata": {},
     "output_type": "execute_result"
    }
   ],
   "source": [
    "attendance_codes[['category_description', 'excuse_type_id']].rename(columns={\n",
    "    'category_description':'excuse_name',\n",
    "    'excuse_type_id':'excuse_id'\n",
    "}).values.tolist()"
   ]
  },
  {
   "cell_type": "code",
   "execution_count": 23,
   "id": "7229fcca",
   "metadata": {},
   "outputs": [
    {
     "data": {
      "text/plain": [
       "{'student_user_id': 4750432,\n",
       " 'begin_date': '2022-01-19T13:39:42Z',\n",
       " 'end_date': '2022-01-19T13:39:42Z',\n",
       " 'excuse_type_id': 5604,\n",
       " 'excuse_comment': 'This was a test - autogenerated by W'}"
      ]
     },
     "execution_count": 23,
     "metadata": {},
     "output_type": "execute_result"
    }
   ],
   "source": [
    "data"
   ]
  },
  {
   "cell_type": "code",
   "execution_count": 24,
   "id": "948b93c7",
   "metadata": {},
   "outputs": [],
   "source": [
    "# sky.post(endpoint='attendance', data=data)"
   ]
  },
  {
   "cell_type": "code",
   "execution_count": 25,
   "id": "5364c9a1",
   "metadata": {},
   "outputs": [
    {
     "data": {
      "text/plain": [
       "datetime.datetime(2022, 1, 19, 13, 40, 7, 265325)"
      ]
     },
     "execution_count": 25,
     "metadata": {},
     "output_type": "execute_result"
    }
   ],
   "source": [
    "datetime.now()"
   ]
  }
 ],
 "metadata": {
  "kernelspec": {
   "display_name": "Python 3 (ipykernel)",
   "language": "python",
   "name": "python3"
  },
  "language_info": {
   "codemirror_mode": {
    "name": "ipython",
    "version": 3
   },
   "file_extension": ".py",
   "mimetype": "text/x-python",
   "name": "python",
   "nbconvert_exporter": "python",
   "pygments_lexer": "ipython3",
   "version": "3.9.9"
  }
 },
 "nbformat": 4,
 "nbformat_minor": 5
}
